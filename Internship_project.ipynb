{
  "nbformat": 4,
  "nbformat_minor": 0,
  "metadata": {
    "colab": {
      "provenance": [],
      "gpuType": "T4"
    },
    "kernelspec": {
      "name": "python3",
      "display_name": "Python 3"
    },
    "language_info": {
      "name": "python"
    },
    "accelerator": "GPU"
  },
  "cells": [
    {
      "cell_type": "markdown",
      "source": [
        "# **CNN MODEL ON MNIST DATASET FOR WRITTEN DIGIT CLASSIFICATION.**"
      ],
      "metadata": {
        "id": "38QfMEnA3iK1"
      }
    },
    {
      "cell_type": "markdown",
      "source": [
        "***1. Model without convolution.***"
      ],
      "metadata": {
        "id": "lhA1i_AjCKea"
      }
    },
    {
      "cell_type": "markdown",
      "source": [
        "MNIST DATASET IS THE HANDWRITTEN NUMBERS TAKEN AS IMAGES. ALL IMAGES ARE GREY SCALE."
      ],
      "metadata": {
        "id": "oXI6D4cP38-B"
      }
    },
    {
      "cell_type": "markdown",
      "source": [
        "IMPORTING LIBRARIES."
      ],
      "metadata": {
        "id": "3Kjm5SXG4OTv"
      }
    },
    {
      "cell_type": "code",
      "source": [
        "# importing mnist dataset, sequential model, dense layers, to_categorical from keras library.\n",
        "from keras.datasets import mnist\n",
        "from tensorflow.keras.utils import to_categorical\n",
        "from keras.models import Sequential\n",
        "from keras.layers import Dense\n",
        "\n",
        "# importing numpy and importing matplotlib.pyplot for visualization.\n",
        "import numpy as np\n",
        "import matplotlib.pyplot as plt"
      ],
      "metadata": {
        "id": "YTZm8D0H34N1"
      },
      "execution_count": 3,
      "outputs": []
    },
    {
      "cell_type": "markdown",
      "source": [
        "LOAD THE DATASET MNIST."
      ],
      "metadata": {
        "id": "g14q8zvR4XMg"
      }
    },
    {
      "cell_type": "code",
      "source": [
        "# loading the mnist dataset.\n",
        "(X_train, y_train),(X_test, y_test)=mnist.load_data()"
      ],
      "metadata": {
        "colab": {
          "base_uri": "https://localhost:8080/"
        },
        "id": "imd5cvpn36eJ",
        "outputId": "7b64215a-7f2d-473e-9522-1d108db509fa"
      },
      "execution_count": 4,
      "outputs": [
        {
          "output_type": "stream",
          "name": "stdout",
          "text": [
            "Downloading data from https://storage.googleapis.com/tensorflow/tf-keras-datasets/mnist.npz\n",
            "11490434/11490434 [==============================] - 0s 0us/step\n"
          ]
        }
      ]
    },
    {
      "cell_type": "markdown",
      "source": [
        "DATA DETAILS."
      ],
      "metadata": {
        "id": "jQyBOwg44ka7"
      }
    },
    {
      "cell_type": "code",
      "source": [
        "print(X_train.shape)\n",
        "print(y_train.shape)\n",
        "print(X_test.shape)\n",
        "print(y_test.shape)"
      ],
      "metadata": {
        "colab": {
          "base_uri": "https://localhost:8080/"
        },
        "id": "uDnpLDzW4mMk",
        "outputId": "41029a57-bf78-45fb-ba33-b34e86a75374"
      },
      "execution_count": 5,
      "outputs": [
        {
          "output_type": "stream",
          "name": "stdout",
          "text": [
            "(60000, 28, 28)\n",
            "(60000,)\n",
            "(10000, 28, 28)\n",
            "(10000,)\n"
          ]
        }
      ]
    },
    {
      "cell_type": "markdown",
      "source": [
        "IMAGE FORMAT."
      ],
      "metadata": {
        "id": "6rMoUviv4qSR"
      }
    },
    {
      "cell_type": "code",
      "source": [
        "X_train[0].shape"
      ],
      "metadata": {
        "colab": {
          "base_uri": "https://localhost:8080/"
        },
        "id": "QiRXdsdA4tV2",
        "outputId": "f223d088-50dc-47bd-ee50-96b66b1a8d16"
      },
      "execution_count": 6,
      "outputs": [
        {
          "output_type": "execute_result",
          "data": {
            "text/plain": [
              "(28, 28)"
            ]
          },
          "metadata": {},
          "execution_count": 6
        }
      ]
    },
    {
      "cell_type": "markdown",
      "source": [
        "DATA IN TRAINING SETS."
      ],
      "metadata": {
        "id": "yfpWspbU41u2"
      }
    },
    {
      "cell_type": "code",
      "source": [
        "plt.imshow(X_train[0],cmap=\"gray\")"
      ],
      "metadata": {
        "colab": {
          "base_uri": "https://localhost:8080/",
          "height": 447
        },
        "id": "49MX5-GX43zC",
        "outputId": "dd512ae8-93d0-4f0a-f434-86ea2cdef07c"
      },
      "execution_count": 7,
      "outputs": [
        {
          "output_type": "execute_result",
          "data": {
            "text/plain": [
              "<matplotlib.image.AxesImage at 0x798f99aba680>"
            ]
          },
          "metadata": {},
          "execution_count": 7
        },
        {
          "output_type": "display_data",
          "data": {
            "text/plain": [
              "<Figure size 640x480 with 1 Axes>"
            ],
            "image/png": "[encoded data removed]"
          },
          "metadata": {}
        }
      ]
    },
    {
      "cell_type": "code",
      "source": [
        "y_train[0]"
      ],
      "metadata": {
        "colab": {
          "base_uri": "https://localhost:8080/"
        },
        "id": "c6B9WENT5VLv",
        "outputId": "87ce4b1b-ca6c-408b-9de5-bba02be7de6a"
      },
      "execution_count": 8,
      "outputs": [
        {
          "output_type": "execute_result",
          "data": {
            "text/plain": [
              "5"
            ]
          },
          "metadata": {},
          "execution_count": 8
        }
      ]
    },
    {
      "cell_type": "markdown",
      "source": [
        "PRE-PROCESSING THE IMAGE DATA."
      ],
      "metadata": {
        "id": "qg09KaKQ5Xwx"
      }
    },
    {
      "cell_type": "code",
      "source": [
        "image_height, image_width=28,28"
      ],
      "metadata": {
        "id": "bdTa5HbI5b0t"
      },
      "execution_count": 9,
      "outputs": []
    },
    {
      "cell_type": "code",
      "source": [
        "X_train=X_train.reshape(60000, image_height*image_width)\n",
        "X_test=X_test.reshape(10000, image_height*image_width)\n",
        "\n",
        "print(X_train.shape)\n",
        "print(X_test.shape)"
      ],
      "metadata": {
        "colab": {
          "base_uri": "https://localhost:8080/"
        },
        "id": "ybiNlw_55gpl",
        "outputId": "504c3352-3241-4f2e-b5b5-7d00bfe6fc26"
      },
      "execution_count": 10,
      "outputs": [
        {
          "output_type": "stream",
          "name": "stdout",
          "text": [
            "(60000, 784)\n",
            "(10000, 784)\n"
          ]
        }
      ]
    },
    {
      "cell_type": "code",
      "source": [
        "print(X_train[0])"
      ],
      "metadata": {
        "colab": {
          "base_uri": "https://localhost:8080/"
        },
        "id": "PMBgJtOK5jAH",
        "outputId": "cb85e570-3f5a-4485-e81f-3fd1aafadfe0"
      },
      "execution_count": 11,
      "outputs": [
        {
          "output_type": "stream",
          "name": "stdout",
          "text": [
            "[  0   0   0   0   0   0   0   0   0   0   0   0   0   0   0   0   0   0\n",
            "   0   0   0   0   0   0   0   0   0   0   0   0   0   0   0   0   0   0\n",
            "   0   0   0   0   0   0   0   0   0   0   0   0   0   0   0   0   0   0\n",
            "   0   0   0   0   0   0   0   0   0   0   0   0   0   0   0   0   0   0\n",
            "   0   0   0   0   0   0   0   0   0   0   0   0   0   0   0   0   0   0\n",
            "   0   0   0   0   0   0   0   0   0   0   0   0   0   0   0   0   0   0\n",
            "   0   0   0   0   0   0   0   0   0   0   0   0   0   0   0   0   0   0\n",
            "   0   0   0   0   0   0   0   0   0   0   0   0   0   0   0   0   0   0\n",
            "   0   0   0   0   0   0   0   0   3  18  18  18 126 136 175  26 166 255\n",
            " 247 127   0   0   0   0   0   0   0   0   0   0   0   0  30  36  94 154\n",
            " 170 253 253 253 253 253 225 172 253 242 195  64   0   0   0   0   0   0\n",
            "   0   0   0   0   0  49 238 253 253 253 253 253 253 253 253 251  93  82\n",
            "  82  56  39   0   0   0   0   0   0   0   0   0   0   0   0  18 219 253\n",
            " 253 253 253 253 198 182 247 241   0   0   0   0   0   0   0   0   0   0\n",
            "   0   0   0   0   0   0   0   0  80 156 107 253 253 205  11   0  43 154\n",
            "   0   0   0   0   0   0   0   0   0   0   0   0   0   0   0   0   0   0\n",
            "   0  14   1 154 253  90   0   0   0   0   0   0   0   0   0   0   0   0\n",
            "   0   0   0   0   0   0   0   0   0   0   0   0   0 139 253 190   2   0\n",
            "   0   0   0   0   0   0   0   0   0   0   0   0   0   0   0   0   0   0\n",
            "   0   0   0   0   0  11 190 253  70   0   0   0   0   0   0   0   0   0\n",
            "   0   0   0   0   0   0   0   0   0   0   0   0   0   0   0   0  35 241\n",
            " 225 160 108   1   0   0   0   0   0   0   0   0   0   0   0   0   0   0\n",
            "   0   0   0   0   0   0   0   0   0  81 240 253 253 119  25   0   0   0\n",
            "   0   0   0   0   0   0   0   0   0   0   0   0   0   0   0   0   0   0\n",
            "   0   0  45 186 253 253 150  27   0   0   0   0   0   0   0   0   0   0\n",
            "   0   0   0   0   0   0   0   0   0   0   0   0   0  16  93 252 253 187\n",
            "   0   0   0   0   0   0   0   0   0   0   0   0   0   0   0   0   0   0\n",
            "   0   0   0   0   0   0   0 249 253 249  64   0   0   0   0   0   0   0\n",
            "   0   0   0   0   0   0   0   0   0   0   0   0   0   0  46 130 183 253\n",
            " 253 207   2   0   0   0   0   0   0   0   0   0   0   0   0   0   0   0\n",
            "   0   0   0   0  39 148 229 253 253 253 250 182   0   0   0   0   0   0\n",
            "   0   0   0   0   0   0   0   0   0   0   0   0  24 114 221 253 253 253\n",
            " 253 201  78   0   0   0   0   0   0   0   0   0   0   0   0   0   0   0\n",
            "   0   0  23  66 213 253 253 253 253 198  81   2   0   0   0   0   0   0\n",
            "   0   0   0   0   0   0   0   0   0   0  18 171 219 253 253 253 253 195\n",
            "  80   9   0   0   0   0   0   0   0   0   0   0   0   0   0   0   0   0\n",
            "  55 172 226 253 253 253 253 244 133  11   0   0   0   0   0   0   0   0\n",
            "   0   0   0   0   0   0   0   0   0   0 136 253 253 253 212 135 132  16\n",
            "   0   0   0   0   0   0   0   0   0   0   0   0   0   0   0   0   0   0\n",
            "   0   0   0   0   0   0   0   0   0   0   0   0   0   0   0   0   0   0\n",
            "   0   0   0   0   0   0   0   0   0   0   0   0   0   0   0   0   0   0\n",
            "   0   0   0   0   0   0   0   0   0   0   0   0   0   0   0   0   0   0\n",
            "   0   0   0   0   0   0   0   0   0   0   0   0   0   0   0   0   0   0\n",
            "   0   0   0   0   0   0   0   0   0   0]\n"
          ]
        }
      ]
    },
    {
      "cell_type": "code",
      "source": [
        "X_train=X_train.astype('float32')\n",
        "X_test=X_test.astype('float32')"
      ],
      "metadata": {
        "id": "N56M_YNl5mzf"
      },
      "execution_count": 12,
      "outputs": []
    },
    {
      "cell_type": "code",
      "source": [
        "X_train/=255.0\n",
        "X_test/=255.0"
      ],
      "metadata": {
        "id": "yd-9mv8i5otG"
      },
      "execution_count": 13,
      "outputs": []
    },
    {
      "cell_type": "code",
      "source": [
        "print(X_train[0])"
      ],
      "metadata": {
        "colab": {
          "base_uri": "https://localhost:8080/"
        },
        "id": "moUaQuqg5q1t",
        "outputId": "f0cf9cee-c77b-4a11-86ea-1d3d984ba674"
      },
      "execution_count": 14,
      "outputs": [
        {
          "output_type": "stream",
          "name": "stdout",
          "text": [
            "[0.         0.         0.         0.         0.         0.\n",
            " 0.         0.         0.         0.         0.         0.\n",
            " 0.         0.         0.         0.         0.         0.\n",
            " 0.         0.         0.         0.         0.         0.\n",
            " 0.         0.         0.         0.         0.         0.\n",
            " 0.         0.         0.         0.         0.         0.\n",
            " 0.         0.         0.         0.         0.         0.\n",
            " 0.         0.         0.         0.         0.         0.\n",
            " 0.         0.         0.         0.         0.         0.\n",
            " 0.         0.         0.         0.         0.         0.\n",
            " 0.         0.         0.         0.         0.         0.\n",
            " 0.         0.         0.         0.         0.         0.\n",
            " 0.         0.         0.         0.         0.         0.\n",
            " 0.         0.         0.         0.         0.         0.\n",
            " 0.         0.         0.         0.         0.         0.\n",
            " 0.         0.         0.         0.         0.         0.\n",
            " 0.         0.         0.         0.         0.         0.\n",
            " 0.         0.         0.         0.         0.         0.\n",
            " 0.         0.         0.         0.         0.         0.\n",
            " 0.         0.         0.         0.         0.         0.\n",
            " 0.         0.         0.         0.         0.         0.\n",
            " 0.         0.         0.         0.         0.         0.\n",
            " 0.         0.         0.         0.         0.         0.\n",
            " 0.         0.         0.         0.         0.         0.\n",
            " 0.         0.         0.         0.         0.         0.\n",
            " 0.         0.         0.01176471 0.07058824 0.07058824 0.07058824\n",
            " 0.49411765 0.53333336 0.6862745  0.10196079 0.6509804  1.\n",
            " 0.96862745 0.49803922 0.         0.         0.         0.\n",
            " 0.         0.         0.         0.         0.         0.\n",
            " 0.         0.         0.11764706 0.14117648 0.36862746 0.6039216\n",
            " 0.6666667  0.99215686 0.99215686 0.99215686 0.99215686 0.99215686\n",
            " 0.88235295 0.6745098  0.99215686 0.9490196  0.7647059  0.2509804\n",
            " 0.         0.         0.         0.         0.         0.\n",
            " 0.         0.         0.         0.         0.         0.19215687\n",
            " 0.93333334 0.99215686 0.99215686 0.99215686 0.99215686 0.99215686\n",
            " 0.99215686 0.99215686 0.99215686 0.9843137  0.3647059  0.32156864\n",
            " 0.32156864 0.21960784 0.15294118 0.         0.         0.\n",
            " 0.         0.         0.         0.         0.         0.\n",
            " 0.         0.         0.         0.07058824 0.85882354 0.99215686\n",
            " 0.99215686 0.99215686 0.99215686 0.99215686 0.7764706  0.7137255\n",
            " 0.96862745 0.94509804 0.         0.         0.         0.\n",
            " 0.         0.         0.         0.         0.         0.\n",
            " 0.         0.         0.         0.         0.         0.\n",
            " 0.         0.         0.3137255  0.6117647  0.41960785 0.99215686\n",
            " 0.99215686 0.8039216  0.04313726 0.         0.16862746 0.6039216\n",
            " 0.         0.         0.         0.         0.         0.\n",
            " 0.         0.         0.         0.         0.         0.\n",
            " 0.         0.         0.         0.         0.         0.\n",
            " 0.         0.05490196 0.00392157 0.6039216  0.99215686 0.3529412\n",
            " 0.         0.         0.         0.         0.         0.\n",
            " 0.         0.         0.         0.         0.         0.\n",
            " 0.         0.         0.         0.         0.         0.\n",
            " 0.         0.         0.         0.         0.         0.\n",
            " 0.         0.54509807 0.99215686 0.74509805 0.00784314 0.\n",
            " 0.         0.         0.         0.         0.         0.\n",
            " 0.         0.         0.         0.         0.         0.\n",
            " 0.         0.         0.         0.         0.         0.\n",
            " 0.         0.         0.         0.         0.         0.04313726\n",
            " 0.74509805 0.99215686 0.27450982 0.         0.         0.\n",
            " 0.         0.         0.         0.         0.         0.\n",
            " 0.         0.         0.         0.         0.         0.\n",
            " 0.         0.         0.         0.         0.         0.\n",
            " 0.         0.         0.         0.         0.13725491 0.94509804\n",
            " 0.88235295 0.627451   0.42352942 0.00392157 0.         0.\n",
            " 0.         0.         0.         0.         0.         0.\n",
            " 0.         0.         0.         0.         0.         0.\n",
            " 0.         0.         0.         0.         0.         0.\n",
            " 0.         0.         0.         0.31764707 0.9411765  0.99215686\n",
            " 0.99215686 0.46666667 0.09803922 0.         0.         0.\n",
            " 0.         0.         0.         0.         0.         0.\n",
            " 0.         0.         0.         0.         0.         0.\n",
            " 0.         0.         0.         0.         0.         0.\n",
            " 0.         0.         0.1764706  0.7294118  0.99215686 0.99215686\n",
            " 0.5882353  0.10588235 0.         0.         0.         0.\n",
            " 0.         0.         0.         0.         0.         0.\n",
            " 0.         0.         0.         0.         0.         0.\n",
            " 0.         0.         0.         0.         0.         0.\n",
            " 0.         0.0627451  0.3647059  0.9882353  0.99215686 0.73333335\n",
            " 0.         0.         0.         0.         0.         0.\n",
            " 0.         0.         0.         0.         0.         0.\n",
            " 0.         0.         0.         0.         0.         0.\n",
            " 0.         0.         0.         0.         0.         0.\n",
            " 0.         0.9764706  0.99215686 0.9764706  0.2509804  0.\n",
            " 0.         0.         0.         0.         0.         0.\n",
            " 0.         0.         0.         0.         0.         0.\n",
            " 0.         0.         0.         0.         0.         0.\n",
            " 0.         0.         0.18039216 0.50980395 0.7176471  0.99215686\n",
            " 0.99215686 0.8117647  0.00784314 0.         0.         0.\n",
            " 0.         0.         0.         0.         0.         0.\n",
            " 0.         0.         0.         0.         0.         0.\n",
            " 0.         0.         0.         0.         0.15294118 0.5803922\n",
            " 0.8980392  0.99215686 0.99215686 0.99215686 0.98039216 0.7137255\n",
            " 0.         0.         0.         0.         0.         0.\n",
            " 0.         0.         0.         0.         0.         0.\n",
            " 0.         0.         0.         0.         0.         0.\n",
            " 0.09411765 0.44705883 0.8666667  0.99215686 0.99215686 0.99215686\n",
            " 0.99215686 0.7882353  0.30588236 0.         0.         0.\n",
            " 0.         0.         0.         0.         0.         0.\n",
            " 0.         0.         0.         0.         0.         0.\n",
            " 0.         0.         0.09019608 0.25882354 0.8352941  0.99215686\n",
            " 0.99215686 0.99215686 0.99215686 0.7764706  0.31764707 0.00784314\n",
            " 0.         0.         0.         0.         0.         0.\n",
            " 0.         0.         0.         0.         0.         0.\n",
            " 0.         0.         0.         0.         0.07058824 0.67058825\n",
            " 0.85882354 0.99215686 0.99215686 0.99215686 0.99215686 0.7647059\n",
            " 0.3137255  0.03529412 0.         0.         0.         0.\n",
            " 0.         0.         0.         0.         0.         0.\n",
            " 0.         0.         0.         0.         0.         0.\n",
            " 0.21568628 0.6745098  0.8862745  0.99215686 0.99215686 0.99215686\n",
            " 0.99215686 0.95686275 0.52156866 0.04313726 0.         0.\n",
            " 0.         0.         0.         0.         0.         0.\n",
            " 0.         0.         0.         0.         0.         0.\n",
            " 0.         0.         0.         0.         0.53333336 0.99215686\n",
            " 0.99215686 0.99215686 0.83137256 0.5294118  0.5176471  0.0627451\n",
            " 0.         0.         0.         0.         0.         0.\n",
            " 0.         0.         0.         0.         0.         0.\n",
            " 0.         0.         0.         0.         0.         0.\n",
            " 0.         0.         0.         0.         0.         0.\n",
            " 0.         0.         0.         0.         0.         0.\n",
            " 0.         0.         0.         0.         0.         0.\n",
            " 0.         0.         0.         0.         0.         0.\n",
            " 0.         0.         0.         0.         0.         0.\n",
            " 0.         0.         0.         0.         0.         0.\n",
            " 0.         0.         0.         0.         0.         0.\n",
            " 0.         0.         0.         0.         0.         0.\n",
            " 0.         0.         0.         0.         0.         0.\n",
            " 0.         0.         0.         0.         0.         0.\n",
            " 0.         0.         0.         0.         0.         0.\n",
            " 0.         0.         0.         0.         0.         0.\n",
            " 0.         0.         0.         0.         0.         0.\n",
            " 0.         0.         0.         0.        ]\n"
          ]
        }
      ]
    },
    {
      "cell_type": "code",
      "source": [
        "print(y_train.shape)\n",
        "print(y_test.shape)"
      ],
      "metadata": {
        "colab": {
          "base_uri": "https://localhost:8080/"
        },
        "id": "L6Gh51fP5ttb",
        "outputId": "3c6cda1b-da16-41b9-ae66-c70cb970b982"
      },
      "execution_count": 15,
      "outputs": [
        {
          "output_type": "stream",
          "name": "stdout",
          "text": [
            "(60000,)\n",
            "(10000,)\n"
          ]
        }
      ]
    },
    {
      "cell_type": "markdown",
      "source": [
        "CONVERTING THE TARGET VALUE INTO 10 BINS.\n",
        "THE MODEL OUTPUTS WILL GO INTO ONE OF THESE BINS."
      ],
      "metadata": {
        "id": "LiXXfEDj52gz"
      }
    },
    {
      "cell_type": "code",
      "source": [
        "y_train=to_categorical(y_train,10)\n",
        "y_test=to_categorical(y_test,10)\n",
        "\n",
        "print(y_train.shape)\n",
        "print(y_test.shape)"
      ],
      "metadata": {
        "colab": {
          "base_uri": "https://localhost:8080/"
        },
        "id": "yGjacJlI6Npc",
        "outputId": "a21e95f5-0efe-4862-8ec5-b2c6aa5771f1"
      },
      "execution_count": 16,
      "outputs": [
        {
          "output_type": "stream",
          "name": "stdout",
          "text": [
            "(60000, 10)\n",
            "(10000, 10)\n"
          ]
        }
      ]
    },
    {
      "cell_type": "code",
      "source": [
        "y_train[0]"
      ],
      "metadata": {
        "colab": {
          "base_uri": "https://localhost:8080/"
        },
        "id": "8g9smPbo6QAQ",
        "outputId": "d4fbfa98-db10-43b8-a080-93ecbf001a56"
      },
      "execution_count": 17,
      "outputs": [
        {
          "output_type": "execute_result",
          "data": {
            "text/plain": [
              "array([0., 0., 0., 0., 0., 1., 0., 0., 0., 0.], dtype=float32)"
            ]
          },
          "metadata": {},
          "execution_count": 17
        }
      ]
    },
    {
      "cell_type": "markdown",
      "source": [
        "BUILDING THE MODEL."
      ],
      "metadata": {
        "id": "tHurddt96YS2"
      }
    },
    {
      "cell_type": "code",
      "source": [
        "# This is topology of normal nn with 2 hidden layers and 1 output layer.\n",
        "model=Sequential()\n",
        "# we are using the relu activation function in the hidden layers.\n",
        "model.add(Dense(512, activation='relu',input_shape=(784,)))\n",
        "model.add(Dense(512,activation='relu'))\n",
        "# In the output, we are using softmax activation function as it is multiclass classifier.\n",
        "model.add(Dense(10,activation=\"softmax\"))"
      ],
      "metadata": {
        "id": "GcTZ-FxH6d-d"
      },
      "execution_count": 18,
      "outputs": []
    },
    {
      "cell_type": "markdown",
      "source": [
        "COMPILE THE MODEL."
      ],
      "metadata": {
        "id": "C6Q1KOTK6g5N"
      }
    },
    {
      "cell_type": "code",
      "source": [
        "# compiling the model.\n",
        "model.compile(optimizer=\"adam\",loss='categorical_crossentropy',metrics=[\"accuracy\"])\n",
        "model.summary()"
      ],
      "metadata": {
        "colab": {
          "base_uri": "https://localhost:8080/"
        },
        "id": "vJ2UgcH-6kGG",
        "outputId": "c89c1a45-dee8-4e44-ec80-07ffdb00a7c7"
      },
      "execution_count": 19,
      "outputs": [
        {
          "output_type": "stream",
          "name": "stdout",
          "text": [
            "Model: \"sequential\"\n",
            "_________________________________________________________________\n",
            " Layer (type)                Output Shape              Param #   \n",
            "=================================================================\n",
            " dense (Dense)               (None, 512)               401920    \n",
            "                                                                 \n",
            " dense_1 (Dense)             (None, 512)               262656    \n",
            "                                                                 \n",
            " dense_2 (Dense)             (None, 10)                5130      \n",
            "                                                                 \n",
            "=================================================================\n",
            "Total params: 669706 (2.55 MB)\n",
            "Trainable params: 669706 (2.55 MB)\n",
            "Non-trainable params: 0 (0.00 Byte)\n",
            "_________________________________________________________________\n"
          ]
        }
      ]
    },
    {
      "cell_type": "code",
      "source": [
        "# fitting the data to the model with 20 epochs.\n",
        "history= model.fit(X_train, y_train, epochs=20, validation_data=(X_test, y_test))"
      ],
      "metadata": {
        "colab": {
          "base_uri": "https://localhost:8080/"
        },
        "id": "FEzveRRs6nMz",
        "outputId": "d061a175-2db2-4f2c-d4df-3d161c3c89ed"
      },
      "execution_count": 20,
      "outputs": [
        {
          "output_type": "stream",
          "name": "stdout",
          "text": [
            "Epoch 1/20\n",
            "1875/1875 [==============================] - 9s 3ms/step - loss: 0.1834 - accuracy: 0.9442 - val_loss: 0.1070 - val_accuracy: 0.9681\n",
            "Epoch 2/20\n",
            "1875/1875 [==============================] - 7s 4ms/step - loss: 0.0806 - accuracy: 0.9757 - val_loss: 0.0793 - val_accuracy: 0.9764\n",
            "Epoch 3/20\n",
            "1875/1875 [==============================] - 6s 3ms/step - loss: 0.0550 - accuracy: 0.9826 - val_loss: 0.0823 - val_accuracy: 0.9780\n",
            "Epoch 4/20\n",
            "1875/1875 [==============================] - 6s 3ms/step - loss: 0.0431 - accuracy: 0.9858 - val_loss: 0.0770 - val_accuracy: 0.9783\n",
            "Epoch 5/20\n",
            "1875/1875 [==============================] - 7s 3ms/step - loss: 0.0334 - accuracy: 0.9896 - val_loss: 0.0908 - val_accuracy: 0.9786\n",
            "Epoch 6/20\n",
            "1875/1875 [==============================] - 7s 4ms/step - loss: 0.0311 - accuracy: 0.9900 - val_loss: 0.1062 - val_accuracy: 0.9759\n",
            "Epoch 7/20\n",
            "1875/1875 [==============================] - 6s 3ms/step - loss: 0.0246 - accuracy: 0.9923 - val_loss: 0.0812 - val_accuracy: 0.9790\n",
            "Epoch 8/20\n",
            "1875/1875 [==============================] - 7s 4ms/step - loss: 0.0213 - accuracy: 0.9933 - val_loss: 0.1122 - val_accuracy: 0.9770\n",
            "Epoch 9/20\n",
            "1875/1875 [==============================] - 6s 3ms/step - loss: 0.0231 - accuracy: 0.9933 - val_loss: 0.1032 - val_accuracy: 0.9802\n",
            "Epoch 10/20\n",
            "1875/1875 [==============================] - 6s 3ms/step - loss: 0.0185 - accuracy: 0.9946 - val_loss: 0.0919 - val_accuracy: 0.9807\n",
            "Epoch 11/20\n",
            "1875/1875 [==============================] - 7s 4ms/step - loss: 0.0173 - accuracy: 0.9948 - val_loss: 0.1425 - val_accuracy: 0.9762\n",
            "Epoch 12/20\n",
            "1875/1875 [==============================] - 6s 3ms/step - loss: 0.0168 - accuracy: 0.9954 - val_loss: 0.1005 - val_accuracy: 0.9802\n",
            "Epoch 13/20\n",
            "1875/1875 [==============================] - 6s 3ms/step - loss: 0.0153 - accuracy: 0.9955 - val_loss: 0.1154 - val_accuracy: 0.9784\n",
            "Epoch 14/20\n",
            "1875/1875 [==============================] - 6s 3ms/step - loss: 0.0148 - accuracy: 0.9959 - val_loss: 0.1363 - val_accuracy: 0.9793\n",
            "Epoch 15/20\n",
            "1875/1875 [==============================] - 7s 3ms/step - loss: 0.0141 - accuracy: 0.9959 - val_loss: 0.1122 - val_accuracy: 0.9823\n",
            "Epoch 16/20\n",
            "1875/1875 [==============================] - 6s 3ms/step - loss: 0.0148 - accuracy: 0.9962 - val_loss: 0.1574 - val_accuracy: 0.9781\n",
            "Epoch 17/20\n",
            "1875/1875 [==============================] - 6s 3ms/step - loss: 0.0131 - accuracy: 0.9967 - val_loss: 0.1424 - val_accuracy: 0.9797\n",
            "Epoch 18/20\n",
            "1875/1875 [==============================] - 6s 3ms/step - loss: 0.0161 - accuracy: 0.9959 - val_loss: 0.1316 - val_accuracy: 0.9830\n",
            "Epoch 19/20\n",
            "1875/1875 [==============================] - 6s 3ms/step - loss: 0.0116 - accuracy: 0.9971 - val_loss: 0.1235 - val_accuracy: 0.9839\n",
            "Epoch 20/20\n",
            "1875/1875 [==============================] - 6s 3ms/step - loss: 0.0138 - accuracy: 0.9967 - val_loss: 0.1323 - val_accuracy: 0.9827\n"
          ]
        }
      ]
    },
    {
      "cell_type": "code",
      "source": [
        "plt.plot(history.history['accuracy'])"
      ],
      "metadata": {
        "colab": {
          "base_uri": "https://localhost:8080/",
          "height": 447
        },
        "id": "W1abVMNb8X50",
        "outputId": "ceb6da42-a9c7-4f95-b97c-8579e393b857"
      },
      "execution_count": 21,
      "outputs": [
        {
          "output_type": "execute_result",
          "data": {
            "text/plain": [
              "[<matplotlib.lines.Line2D at 0x798f96aa6770>]"
            ]
          },
          "metadata": {},
          "execution_count": 21
        },
        {
          "output_type": "display_data",
          "data": {
            "text/plain": [
              "<Figure size 640x480 with 1 Axes>"
            ],
            "image/png": "[encoded data removed]"
          },
          "metadata": {}
        }
      ]
    },
    {
      "cell_type": "markdown",
      "source": [
        "EVALUATING THE MODEL."
      ],
      "metadata": {
        "id": "wXyQotOC8ar9"
      }
    },
    {
      "cell_type": "code",
      "source": [
        "score= model.evaluate(X_test, y_test)"
      ],
      "metadata": {
        "colab": {
          "base_uri": "https://localhost:8080/"
        },
        "id": "e8eX5lkG8c1W",
        "outputId": "603eb343-0f61-4441-fc42-16b23401eed5"
      },
      "execution_count": 22,
      "outputs": [
        {
          "output_type": "stream",
          "name": "stdout",
          "text": [
            "313/313 [==============================] - 1s 3ms/step - loss: 0.1323 - accuracy: 0.9827\n"
          ]
        }
      ]
    },
    {
      "cell_type": "markdown",
      "source": [
        "''' After training the data with normal neural network model, we are getting 0.9827 accuracy after 20 epochs.'''"
      ],
      "metadata": {
        "id": "grc2zo5UEKqo"
      }
    },
    {
      "cell_type": "markdown",
      "source": [
        "IN NN, WE ONLY HAVE FULLY CONNECTED LAYER. WITH CNN, WE HAVE MORE OPERATIONS SUCH AS THE CONVOLUTION OPERATION, MAX POOLING, FLATTENING AND ALSO FULLY CONNECTED LAYER."
      ],
      "metadata": {
        "id": "tBK5BLRI8klM"
      }
    },
    {
      "cell_type": "markdown",
      "source": [
        "''' As image is the collection of pixels, the image data is more. sometimes, we are unable to train with the normal neural networks. '''\n",
        "\n",
        "''' To avoid this drawback, we are using cnn in which we have a convolution and pooling layers. '''"
      ],
      "metadata": {
        "id": "u_XgEREXEimi"
      }
    },
    {
      "cell_type": "markdown",
      "source": [
        "''' convolution: Extraction of key features from the image data. '''\n",
        "\n",
        "''' pooling helps to downsampling. '''\n",
        "\n",
        "''' To avoid some drawbacks in this process, we are using relu function, pooling layer, padding technique. '''"
      ],
      "metadata": {
        "id": "A48DHFtKFDgq"
      }
    },
    {
      "cell_type": "code",
      "source": [
        "# We are importing convolution, pooling, flatten layers from keras other than in the normal nn. The rest is same as normal nn.\n",
        "from keras.layers import Conv2D, MaxPooling2D,Flatten,Dense\n",
        "from keras.models import Sequential\n",
        "from keras.datasets import mnist\n",
        "from tensorflow.keras.utils import to_categorical"
      ],
      "metadata": {
        "id": "0VgkzHQF88um"
      },
      "execution_count": 23,
      "outputs": []
    },
    {
      "cell_type": "code",
      "source": [
        "# loading the data.\n",
        "(X_train, y_train),(X_test, y_test)=mnist.load_data()"
      ],
      "metadata": {
        "id": "XlT7phho9AS9"
      },
      "execution_count": 24,
      "outputs": []
    },
    {
      "cell_type": "code",
      "source": [
        "# Data details.\n",
        "print(X_train.shape)\n",
        "print(y_train.shape)\n",
        "print(X_test.shape)\n",
        "print(y_test.shape)"
      ],
      "metadata": {
        "colab": {
          "base_uri": "https://localhost:8080/"
        },
        "id": "c6_8uah89Fdc",
        "outputId": "48d4f474-ab17-4645-f134-a40490fb513e"
      },
      "execution_count": 25,
      "outputs": [
        {
          "output_type": "stream",
          "name": "stdout",
          "text": [
            "(60000, 28, 28)\n",
            "(60000,)\n",
            "(10000, 28, 28)\n",
            "(10000,)\n"
          ]
        }
      ]
    },
    {
      "cell_type": "code",
      "source": [
        "X_train=X_train.reshape(60000,28,28,1)\n",
        "X_test=X_test.reshape(10000,28,28,1)"
      ],
      "metadata": {
        "id": "meX_xCaO9IOn"
      },
      "execution_count": 26,
      "outputs": []
    },
    {
      "cell_type": "code",
      "source": [
        "X_train=X_train.astype('float32')\n",
        "X_test=X_test.astype('float32')"
      ],
      "metadata": {
        "id": "XO0JEw9f9Kb_"
      },
      "execution_count": 27,
      "outputs": []
    },
    {
      "cell_type": "code",
      "source": [
        "X_train/=255.0\n",
        "X_test/=255.0"
      ],
      "metadata": {
        "id": "KHeUo2RL9PeY"
      },
      "execution_count": 28,
      "outputs": []
    },
    {
      "cell_type": "code",
      "source": [
        "y_train=to_categorical(y_train,10)\n",
        "y_test=to_categorical(y_test,10)"
      ],
      "metadata": {
        "id": "CPK3jN_o9RU7"
      },
      "execution_count": 29,
      "outputs": []
    },
    {
      "cell_type": "code",
      "source": [
        "print(X_train.shape)\n",
        "print(y_train.shape)\n",
        "print(X_test.shape)\n",
        "print(y_test.shape)"
      ],
      "metadata": {
        "colab": {
          "base_uri": "https://localhost:8080/"
        },
        "id": "YKdykTC89S9X",
        "outputId": "1589a5b3-a622-4bd0-a6af-5e8a6f8d584b"
      },
      "execution_count": 30,
      "outputs": [
        {
          "output_type": "stream",
          "name": "stdout",
          "text": [
            "(60000, 28, 28, 1)\n",
            "(60000, 10)\n",
            "(10000, 28, 28, 1)\n",
            "(10000, 10)\n"
          ]
        }
      ]
    },
    {
      "cell_type": "markdown",
      "source": [
        "''' All the above steps are common in the normal nn model. '''"
      ],
      "metadata": {
        "id": "-CTx1YNDGBQM"
      }
    },
    {
      "cell_type": "markdown",
      "source": [
        "CNN MODEL DEVELOPMENT."
      ],
      "metadata": {
        "id": "q8_Cf1R39UkQ"
      }
    },
    {
      "cell_type": "code",
      "source": [
        "cnn=Sequential()\n",
        "# creating convolution layers with filter(kernel) size 3*3.\n",
        "cnn.add(Conv2D(32, kernel_size=(3,3),input_shape=(28,28,1),padding='same',activation='relu'))\n",
        "# applying max pooling technique.\n",
        "cnn.add(MaxPooling2D())\n",
        "# creating convolution layers with filter(kernel) size 3*3.\n",
        "cnn.add(Conv2D(32,kernel_size=(3,3),padding='same',activation='relu'))\n",
        "# applying max pooling technique.\n",
        "cnn.add(MaxPooling2D())\n",
        "# Flatten layers to give input to the normal nn that is fully connected layer.\n",
        "cnn.add(Flatten())\n",
        "# In nn, we have one hidden layer with relu activation function.\n",
        "cnn.add(Dense(64, activation='relu'))\n",
        "# As the output is 10 labels which is multiclass, we are used softmax activation function.\n",
        "cnn.add(Dense(10,activation='softmax'))\n",
        "# For better accuracy, we are adding adam optimizer.\n",
        "cnn.compile(optimizer='adam',loss='categorical_crossentropy',metrics=['accuracy'])\n",
        "# suumary\n",
        "print(cnn.summary())"
      ],
      "metadata": {
        "colab": {
          "base_uri": "https://localhost:8080/"
        },
        "id": "HzafbZRI9XlU",
        "outputId": "eafa6763-18c1-43e7-c2ab-c9fc765f82b2"
      },
      "execution_count": 31,
      "outputs": [
        {
          "output_type": "stream",
          "name": "stdout",
          "text": [
            "Model: \"sequential_1\"\n",
            "_________________________________________________________________\n",
            " Layer (type)                Output Shape              Param #   \n",
            "=================================================================\n",
            " conv2d (Conv2D)             (None, 28, 28, 32)        320       \n",
            "                                                                 \n",
            " max_pooling2d (MaxPooling2  (None, 14, 14, 32)        0         \n",
            " D)                                                              \n",
            "                                                                 \n",
            " conv2d_1 (Conv2D)           (None, 14, 14, 32)        9248      \n",
            "                                                                 \n",
            " max_pooling2d_1 (MaxPoolin  (None, 7, 7, 32)          0         \n",
            " g2D)                                                            \n",
            "                                                                 \n",
            " flatten (Flatten)           (None, 1568)              0         \n",
            "                                                                 \n",
            " dense_3 (Dense)             (None, 64)                100416    \n",
            "                                                                 \n",
            " dense_4 (Dense)             (None, 10)                650       \n",
            "                                                                 \n",
            "=================================================================\n",
            "Total params: 110634 (432.16 KB)\n",
            "Trainable params: 110634 (432.16 KB)\n",
            "Non-trainable params: 0 (0.00 Byte)\n",
            "_________________________________________________________________\n",
            "None\n"
          ]
        }
      ]
    },
    {
      "cell_type": "code",
      "source": [
        "# Here, we are training with just 12 epochs where in normal nn, we did in 20 epochs.\n",
        "history_cnn=cnn.fit(X_train, y_train, epochs=12, verbose=1, validation_data=(X_train, y_train))"
      ],
      "metadata": {
        "id": "XSpEO28q_omv",
        "colab": {
          "base_uri": "https://localhost:8080/"
        },
        "outputId": "d5e359e0-12e5-4f0c-e431-78e73fe42ae3"
      },
      "execution_count": 32,
      "outputs": [
        {
          "output_type": "stream",
          "name": "stdout",
          "text": [
            "Epoch 1/12\n",
            "1875/1875 [==============================] - 14s 6ms/step - loss: 0.1557 - accuracy: 0.9531 - val_loss: 0.0669 - val_accuracy: 0.9793\n",
            "Epoch 2/12\n",
            "1875/1875 [==============================] - 11s 6ms/step - loss: 0.0506 - accuracy: 0.9840 - val_loss: 0.0313 - val_accuracy: 0.9906\n",
            "Epoch 3/12\n",
            "1875/1875 [==============================] - 11s 6ms/step - loss: 0.0345 - accuracy: 0.9892 - val_loss: 0.0227 - val_accuracy: 0.9932\n",
            "Epoch 4/12\n",
            "1875/1875 [==============================] - 10s 5ms/step - loss: 0.0275 - accuracy: 0.9914 - val_loss: 0.0158 - val_accuracy: 0.9953\n",
            "Epoch 5/12\n",
            "1875/1875 [==============================] - 9s 5ms/step - loss: 0.0204 - accuracy: 0.9934 - val_loss: 0.0223 - val_accuracy: 0.9935\n",
            "Epoch 6/12\n",
            "1875/1875 [==============================] - 12s 6ms/step - loss: 0.0164 - accuracy: 0.9948 - val_loss: 0.0182 - val_accuracy: 0.9942\n",
            "Epoch 7/12\n",
            "1875/1875 [==============================] - 10s 5ms/step - loss: 0.0135 - accuracy: 0.9957 - val_loss: 0.0120 - val_accuracy: 0.9957\n",
            "Epoch 8/12\n",
            "1875/1875 [==============================] - 12s 6ms/step - loss: 0.0098 - accuracy: 0.9969 - val_loss: 0.0074 - val_accuracy: 0.9974\n",
            "Epoch 9/12\n",
            "1875/1875 [==============================] - 10s 5ms/step - loss: 0.0094 - accuracy: 0.9968 - val_loss: 0.0040 - val_accuracy: 0.9987\n",
            "Epoch 10/12\n",
            "1875/1875 [==============================] - 10s 5ms/step - loss: 0.0078 - accuracy: 0.9973 - val_loss: 0.0051 - val_accuracy: 0.9983\n",
            "Epoch 11/12\n",
            "1875/1875 [==============================] - 10s 5ms/step - loss: 0.0071 - accuracy: 0.9977 - val_loss: 0.0036 - val_accuracy: 0.9990\n",
            "Epoch 12/12\n",
            "1875/1875 [==============================] - 11s 6ms/step - loss: 0.0065 - accuracy: 0.9977 - val_loss: 0.0037 - val_accuracy: 0.9988\n"
          ]
        }
      ]
    },
    {
      "cell_type": "markdown",
      "source": [
        "''' Even though we used less epochs then the normal nn model, we get better accuracy then before. '''"
      ],
      "metadata": {
        "id": "CopRp65iHQ98"
      }
    },
    {
      "cell_type": "code",
      "source": [
        "plt.plot(history_cnn.history['accuracy'])"
      ],
      "metadata": {
        "id": "TjAMIQtW_csM",
        "colab": {
          "base_uri": "https://localhost:8080/",
          "height": 447
        },
        "outputId": "76767ae7-c945-49af-d05f-515372010dc9"
      },
      "execution_count": 33,
      "outputs": [
        {
          "output_type": "execute_result",
          "data": {
            "text/plain": [
              "[<matplotlib.lines.Line2D at 0x798f96810df0>]"
            ]
          },
          "metadata": {},
          "execution_count": 33
        },
        {
          "output_type": "display_data",
          "data": {
            "text/plain": [
              "<Figure size 640x480 with 1 Axes>"
            ],
            "image/png": "[encoded data removed]"
          },
          "metadata": {}
        }
      ]
    },
    {
      "cell_type": "code",
      "source": [
        "plt.plot(history_cnn.history['val_accuracy'])"
      ],
      "metadata": {
        "id": "ztnl0nhz_eb6",
        "colab": {
          "base_uri": "https://localhost:8080/",
          "height": 447
        },
        "outputId": "c7ac83b2-8d02-47b4-cac2-0fd3e6ebe8b5"
      },
      "execution_count": 34,
      "outputs": [
        {
          "output_type": "execute_result",
          "data": {
            "text/plain": [
              "[<matplotlib.lines.Line2D at 0x798f9673f1f0>]"
            ]
          },
          "metadata": {},
          "execution_count": 34
        },
        {
          "output_type": "display_data",
          "data": {
            "text/plain": [
              "<Figure size 640x480 with 1 Axes>"
            ],
            "image/png": "[encoded data removed]"
          },
          "metadata": {}
        }
      ]
    },
    {
      "cell_type": "markdown",
      "source": [
        "HENCE, THE CONVOLUTION NEURAL NETWORK HELPS IN THE IMAGE CLASSIFICATION BETTER THAN THE NORMAL NEURAL NETWORK."
      ],
      "metadata": {
        "id": "_fFgzar-Hljv"
      }
    }
  ]
}