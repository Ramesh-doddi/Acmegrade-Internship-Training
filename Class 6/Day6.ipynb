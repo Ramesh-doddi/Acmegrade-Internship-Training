{
 "cells": [
  {
   "cell_type": "markdown",
   "id": "135d14a3",
   "metadata": {},
   "source": [
    "# Deep Learning Framework"
   ]
  },
  {
   "cell_type": "markdown",
   "id": "51495fa6",
   "metadata": {},
   "source": [
    "Deep Learning is a field within Machine Learning that deals with building and using Neural Network Models.\n",
    "\n",
    "Neural Networks mimic the functioning of a human brain.\n",
    "\n",
    "Neural Networks with more than three layers are typically categorised as Deep Learning Networks."
   ]
  },
  {
   "cell_type": "markdown",
   "id": "53e4c2a8",
   "metadata": {},
   "source": [
    "Perceptron\n",
    "\n",
    "The perceptron is the unit for learning in an artificial neural network, A perceptron resembles a human brain cell.\n",
    "\n",
    "A perceprton is a single cell or node in a neural network.\n",
    "\n",
    "In Deep Learning we replace slope of model with weights called as w and intercept with the bias called as b.\n",
    "\n",
    "Weights and Biases become the parameters for a neural network.\n",
    "\n",
    "The number of weights equals the number of inputs/features."
   ]
  },
  {
   "cell_type": "markdown",
   "id": "d435837e",
   "metadata": {},
   "source": [
    "# Artifical Neural Network"
   ]
  },
  {
   "cell_type": "markdown",
   "id": "2f4a75ad",
   "metadata": {},
   "source": [
    "An ANN is a network of perceptrons. A deep neural network usually has three or more layers.\n",
    "\n",
    "Each node has its own weights, biases and activation function. Each node is connected to al the nodes in the next layer forming a dense network.\n",
    "\n",
    "Training an ANN means determining the right values for these parameters and hyperparameters such that it maximizes the accuracy of predictions for the given use case."
   ]
  },
  {
   "cell_type": "markdown",
   "id": "f8e8eb56",
   "metadata": {},
   "source": [
    "# Neural Network Architecture"
   ]
  },
  {
   "cell_type": "markdown",
   "id": "130d3c81",
   "metadata": {},
   "source": [
    "Input Layer\n",
    "\n",
    "The input to Deep Learning model is usually a vector of Numeric values.\n",
    "\n",
    "Vectors are usually defined using NumPy arrays. It represents the feature variables or independent variables that are used for prediction as well as training."
   ]
  },
  {
   "cell_type": "markdown",
   "id": "5862c3e7",
   "metadata": {},
   "source": [
    "Hidden Layer\n",
    "\n",
    "An ANN can have one or more hidden layers. The more the layers are the deep the network is.\n",
    "\n",
    "Each hidden layer can have one or more nodes. Typically, the node count is configured in range of 2^n. Examples are 8,16,32,64,128 etc.\n",
    "\n",
    "A neural network is defined by the number of layers and nodes.\n",
    "\n",
    "The output of each node in previous layer will become the inout for every node in the current layers.\n",
    "\n",
    "When there are more nodes and layers it usually results in better accuracy. As a general practice, start with small number and keep adding until an acceptable accuracy levels are obtained."
   ]
  },
  {
   "cell_type": "markdown",
   "id": "8756f38e",
   "metadata": {},
   "source": [
    "Weights and Biases\n",
    "\n",
    "They form the basis for Deep Leaarning Algorithms. Weights and Biases are trainable parameters in a neural network model.\n",
    "\n",
    "Each input for each node will have an associated weight with it."
   ]
  },
  {
   "cell_type": "markdown",
   "id": "037b9243",
   "metadata": {},
   "source": [
    "Activation Functions\n",
    "\n",
    "An activation function plays an important role in creating the output of the node in the neural network.\n",
    "\n",
    "An activation function takes the matrix output of the node and determines if and how the node will propagate information to the next layer.\n",
    "\n",
    "The main objective of activation function is that it converts the output to a non-linear value. They serve as a critical step in helping a neural network learn specific patterns in the data.\n",
    "\n",
    "TanH- A TanH function normalizes the output in the range of (-1 to +1)\n",
    "\n",
    "ReLu- Rectified Linear Unit- A ReLu produces a zero if the output is negative. Else, it will produce the same input verbatim.\n",
    "\n",
    "Softmax Function- This is used in the case of classification problems. It produces a vector of probabilities for each of the possible classes in the outcomes. The class with the highest probability will be considered as the final class.\n",
    "\n",
    "These all activation functions are added as hyperparameters in the model."
   ]
  },
  {
   "cell_type": "markdown",
   "id": "0caba382",
   "metadata": {},
   "source": [
    "Output Layer\n",
    "\n",
    "The output layer is the final layer in the neural network where desired predictions are obtained."
   ]
  },
  {
   "cell_type": "markdown",
   "id": "cfa35c7b",
   "metadata": {},
   "source": [
    "Training a Neural Network Model\n",
    "\n",
    "Set up and initialisation- Converting data into numeric vectors. Splitting data into training, validation and test sets.\n",
    "\n",
    "Forward Propagation- Movement from input to hidden layer and then output layer\n",
    "\n",
    "Measure Accuracy and Error\n",
    "\n",
    "Backpropagation- If error is high then it adjusts weights and biases by the process of gradient descent to improve accuracy.\n",
    "\n",
    "Gradient Descent is the process of repeating the forward and backward ropagation in order to reduce error and move closer to the desired model.\n",
    "\n",
    "Batches and Epochs- 10000/10 (1000)\n",
    "\n",
    "Validation and Testing"
   ]
  },
  {
   "cell_type": "markdown",
   "id": "13020b81",
   "metadata": {},
   "source": [
    "# Deep Learning Example- Iris Dataset"
   ]
  },
  {
   "cell_type": "code",
   "execution_count": 13,
   "id": "f7edca37",
   "metadata": {},
   "outputs": [],
   "source": [
    "import pandas as pd\n",
    "import numpy as np\n",
    "import matplotlib.pyplot as plt\n",
    "import os\n",
    "import tensorflow as tf\n",
    "from sklearn.model_selection import train_test_split\n",
    "from sklearn.preprocessing import StandardScaler\n",
    "\n",
    "import warnings\n",
    "warnings.filterwarnings(\"ignore\")"
   ]
  },
  {
   "cell_type": "markdown",
   "id": "9ece2519",
   "metadata": {},
   "source": [
    "Prepare input data for deep learning\n",
    "\n",
    "Load data into pandas dataframe\n",
    "\n",
    "Convert the dataframe into anumy array\n",
    "\n",
    "Scale the feature dataset\n",
    "\n",
    "Use of onehot encoding for the target variable\n",
    "\n",
    "Split the dataset into training and test datasets."
   ]
  },
  {
   "cell_type": "markdown",
   "id": "91145e3e",
   "metadata": {},
   "source": [
    "Load Data and Review content"
   ]
  },
  {
   "cell_type": "code",
   "execution_count": 14,
   "id": "876a41b1",
   "metadata": {},
   "outputs": [
    {
     "name": "stdout",
     "output_type": "stream",
     "text": [
      "   Sepal.Length  Sepal.Width  Petal.Length  Petal.Width Species\n",
      "0           5.1          3.5           1.4          0.2  setosa\n",
      "1           4.9          3.0           1.4          0.2  setosa\n",
      "2           4.7          3.2           1.3          0.2  setosa\n",
      "3           4.6          3.1           1.5          0.2  setosa\n",
      "4           5.0          3.6           1.4          0.2  setosa\n"
     ]
    }
   ],
   "source": [
    "iris_data=pd.read_csv(\"iris.csv\")\n",
    "print(iris_data.head())"
   ]
  },
  {
   "cell_type": "markdown",
   "id": "7bc1bd12",
   "metadata": {},
   "source": [
    "Use label encoder to convert String to Numeric values for the target variable"
   ]
  },
  {
   "cell_type": "code",
   "execution_count": 15,
   "id": "02171c8f",
   "metadata": {},
   "outputs": [
    {
     "name": "stdout",
     "output_type": "stream",
     "text": [
      "   Sepal.Length  Sepal.Width  Petal.Length  Petal.Width  Species\n",
      "0           5.1          3.5           1.4          0.2        0\n",
      "1           4.9          3.0           1.4          0.2        0\n",
      "2           4.7          3.2           1.3          0.2        0\n",
      "3           4.6          3.1           1.5          0.2        0\n",
      "4           5.0          3.6           1.4          0.2        0\n"
     ]
    }
   ],
   "source": [
    "from sklearn.preprocessing import LabelEncoder\n",
    "\n",
    "label_encoder=LabelEncoder()\n",
    "\n",
    "iris_data['Species']=label_encoder.fit_transform(iris_data['Species'])\n",
    "\n",
    "print(iris_data.head())"
   ]
  },
  {
   "cell_type": "markdown",
   "id": "bcb56791",
   "metadata": {},
   "source": [
    "Converting input to numpy array"
   ]
  },
  {
   "cell_type": "code",
   "execution_count": 16,
   "id": "ff9d12e2",
   "metadata": {},
   "outputs": [
    {
     "name": "stdout",
     "output_type": "stream",
     "text": [
      "(150, 5)\n"
     ]
    }
   ],
   "source": [
    "np_iris=iris_data.to_numpy()\n",
    "\n",
    "print(np_iris.shape)"
   ]
  },
  {
   "cell_type": "markdown",
   "id": "b3ca197c",
   "metadata": {},
   "source": [
    "Separate features and target variables"
   ]
  },
  {
   "cell_type": "code",
   "execution_count": 17,
   "id": "03c38b35",
   "metadata": {},
   "outputs": [
    {
     "name": "stdout",
     "output_type": "stream",
     "text": [
      "\n",
      " Features before Scaling : \n",
      "------------------------\n",
      "[[5.1 3.5 1.4 0.2]\n",
      " [4.9 3.  1.4 0.2]\n",
      " [4.7 3.2 1.3 0.2]\n",
      " [4.6 3.1 1.5 0.2]\n",
      " [5.  3.6 1.4 0.2]]\n",
      "\n",
      "target before one-hot encoding: \n",
      "-------------------\n",
      "[0. 0. 0. 0. 0.]\n"
     ]
    }
   ],
   "source": [
    "X_data=np_iris[:,0:4]\n",
    "\n",
    "Y_data=np_iris[:,4]\n",
    "\n",
    "print(\"\\n Features before Scaling : \\n------------------------\")\n",
    "\n",
    "print(X_data[:5,:])\n",
    "\n",
    "print(\"\\ntarget before one-hot encoding: \\n-------------------\")\n",
    "\n",
    "print(Y_data[:5])"
   ]
  },
  {
   "cell_type": "markdown",
   "id": "c02ec92e",
   "metadata": {},
   "source": [
    "Create a standard scaler object that if fit on the input data"
   ]
  },
  {
   "cell_type": "code",
   "execution_count": 18,
   "id": "8befcc42",
   "metadata": {},
   "outputs": [
    {
     "name": "stdout",
     "output_type": "stream",
     "text": [
      "\n",
      " Features after Scaling : \n",
      "------------------------\n",
      "[[-0.90068117  1.01900435 -1.34022653 -1.3154443 ]\n",
      " [-1.14301691 -0.13197948 -1.34022653 -1.3154443 ]\n",
      " [-1.38535265  0.32841405 -1.39706395 -1.3154443 ]\n",
      " [-1.50652052  0.09821729 -1.2833891  -1.3154443 ]\n",
      " [-1.02184904  1.24920112 -1.34022653 -1.3154443 ]]\n",
      "\n",
      "target after one-hot encoding: \n",
      "-------------------\n",
      "[[1. 0. 0.]\n",
      " [1. 0. 0.]\n",
      " [1. 0. 0.]\n",
      " [1. 0. 0.]\n",
      " [1. 0. 0.]]\n"
     ]
    }
   ],
   "source": [
    "scaler=StandardScaler().fit(X_data)\n",
    "\n",
    "# scale the numeric feature variable\n",
    "X_data=scaler.transform(X_data)\n",
    "\n",
    "# convert target variable as a one-hot encoded array\n",
    "Y_data=tf.keras.utils.to_categorical(Y_data,3)\n",
    "\n",
    "print(\"\\n Features after Scaling : \\n------------------------\")\n",
    "\n",
    "print(X_data[:5,:])\n",
    "\n",
    "print(\"\\ntarget after one-hot encoding: \\n-------------------\")\n",
    "\n",
    "print(Y_data[:5])"
   ]
  },
  {
   "cell_type": "markdown",
   "id": "0def8070",
   "metadata": {},
   "source": [
    "Splitting data into training and test sets"
   ]
  },
  {
   "cell_type": "code",
   "execution_count": 19,
   "id": "02f8be80",
   "metadata": {},
   "outputs": [
    {
     "name": "stdout",
     "output_type": "stream",
     "text": [
      "\n",
      " Train test Dimensions: \n",
      "--------------\n",
      "(135, 4) (15, 4) (135, 3) (15, 3)\n"
     ]
    }
   ],
   "source": [
    "X_train, X_test, Y_train, Y_test=train_test_split(X_data, Y_data, test_size=0.10)\n",
    "\n",
    "print(\"\\n Train test Dimensions: \\n--------------\")\n",
    "\n",
    "print(X_train.shape, X_test.shape, Y_train.shape, Y_test.shape)"
   ]
  },
  {
   "cell_type": "markdown",
   "id": "391d075f",
   "metadata": {},
   "source": [
    "Create a Model\n",
    "\n",
    "Number of hidden layers\n",
    "\n",
    "Number of nodes in each layer\n",
    "\n",
    "Activation functions\n",
    "\n",
    "Loss function and accuracy measurements."
   ]
  },
  {
   "cell_type": "code",
   "execution_count": 20,
   "id": "d8750ba5",
   "metadata": {},
   "outputs": [
    {
     "name": "stdout",
     "output_type": "stream",
     "text": [
      "Model: \"sequential_1\"\n",
      "_________________________________________________________________\n",
      " Layer (type)                Output Shape              Param #   \n",
      "=================================================================\n",
      " Hidden-Layer-1 (Dense)      (None, 128)               640       \n",
      "                                                                 \n",
      " Hidden-Layer-2 (Dense)      (None, 128)               16512     \n",
      "                                                                 \n",
      " Output-Layer (Dense)        (None, 3)                 387       \n",
      "                                                                 \n",
      "=================================================================\n",
      "Total params: 17539 (68.51 KB)\n",
      "Trainable params: 17539 (68.51 KB)\n",
      "Non-trainable params: 0 (0.00 Byte)\n",
      "_________________________________________________________________\n"
     ]
    }
   ],
   "source": [
    "from tensorflow import keras\n",
    "\n",
    "# Number of classes in the target variable\n",
    "NB_CLASSES=3\n",
    "\n",
    "# Create a sequential model in keras\n",
    "model=tf.keras.models.Sequential()\n",
    "\n",
    "# add the first hidden layer\n",
    "model.add(keras.layers.Dense(128, # Number of nodes\n",
    "                            input_shape=(4,), # number of input variables\n",
    "                            name=\"Hidden-Layer-1\", # Logical name\n",
    "                            activation=\"relu\")) # activation function\n",
    "\n",
    "# add a second hidden layer\n",
    "model.add(keras.layers.Dense(128,\n",
    "                            name=\"Hidden-Layer-2\",\n",
    "                            activation=\"relu\"))\n",
    "\n",
    "# add an output layer with softmax function\n",
    "model.add(keras.layers.Dense(NB_CLASSES,\n",
    "                            name=\"Output-Layer\",\n",
    "                            activation=\"softmax\"))\n",
    "\n",
    "# compile the model with loss and metrics\n",
    "model.compile(loss=\"categorical_crossentropy\",\n",
    "             metrics=[\"accuracy\"])\n",
    "\n",
    "# print the model summary\n",
    "model.summary()"
   ]
  },
  {
   "cell_type": "markdown",
   "id": "06f937ba",
   "metadata": {},
   "source": [
    "Training and Evaluating the model"
   ]
  },
  {
   "cell_type": "code",
   "execution_count": 21,
   "id": "7ec8c943",
   "metadata": {},
   "outputs": [
    {
     "name": "stdout",
     "output_type": "stream",
     "text": [
      "\n",
      "Training Progress: \n",
      "------------------\n",
      "Epoch 1/20\n",
      "7/7 [==============================] - 1s 50ms/step - loss: 0.8710 - accuracy: 0.6481 - val_loss: 0.5939 - val_accuracy: 0.8889\n",
      "Epoch 2/20\n",
      "7/7 [==============================] - 0s 9ms/step - loss: 0.5965 - accuracy: 0.8056 - val_loss: 0.4390 - val_accuracy: 0.8889\n",
      "Epoch 3/20\n",
      "7/7 [==============================] - 0s 10ms/step - loss: 0.4695 - accuracy: 0.8056 - val_loss: 0.3591 - val_accuracy: 0.8889\n",
      "Epoch 4/20\n",
      "7/7 [==============================] - 0s 9ms/step - loss: 0.3978 - accuracy: 0.8056 - val_loss: 0.3227 - val_accuracy: 0.8889\n",
      "Epoch 5/20\n",
      "7/7 [==============================] - 0s 9ms/step - loss: 0.3484 - accuracy: 0.8519 - val_loss: 0.3027 - val_accuracy: 0.9259\n",
      "Epoch 6/20\n",
      "7/7 [==============================] - 0s 9ms/step - loss: 0.3085 - accuracy: 0.9074 - val_loss: 0.2624 - val_accuracy: 0.8889\n",
      "Epoch 7/20\n",
      "7/7 [==============================] - 0s 9ms/step - loss: 0.2791 - accuracy: 0.8796 - val_loss: 0.2541 - val_accuracy: 0.9259\n",
      "Epoch 8/20\n",
      "7/7 [==============================] - 0s 9ms/step - loss: 0.2476 - accuracy: 0.8981 - val_loss: 0.2324 - val_accuracy: 0.9259\n",
      "Epoch 9/20\n",
      "7/7 [==============================] - 0s 10ms/step - loss: 0.2316 - accuracy: 0.9074 - val_loss: 0.2334 - val_accuracy: 0.9259\n",
      "Epoch 10/20\n",
      "7/7 [==============================] - 0s 11ms/step - loss: 0.2146 - accuracy: 0.9074 - val_loss: 0.2226 - val_accuracy: 0.9259\n",
      "Epoch 11/20\n",
      "7/7 [==============================] - 0s 9ms/step - loss: 0.1871 - accuracy: 0.9444 - val_loss: 0.2193 - val_accuracy: 0.8889\n",
      "Epoch 12/20\n",
      "7/7 [==============================] - 0s 11ms/step - loss: 0.1738 - accuracy: 0.9352 - val_loss: 0.2140 - val_accuracy: 0.8889\n",
      "Epoch 13/20\n",
      "7/7 [==============================] - 0s 11ms/step - loss: 0.1593 - accuracy: 0.9537 - val_loss: 0.2089 - val_accuracy: 0.9259\n",
      "Epoch 14/20\n",
      "7/7 [==============================] - 0s 11ms/step - loss: 0.1453 - accuracy: 0.9537 - val_loss: 0.2052 - val_accuracy: 0.8889\n",
      "Epoch 15/20\n",
      "7/7 [==============================] - 0s 14ms/step - loss: 0.1386 - accuracy: 0.9444 - val_loss: 0.1988 - val_accuracy: 0.8889\n",
      "Epoch 16/20\n",
      "7/7 [==============================] - 0s 12ms/step - loss: 0.1172 - accuracy: 0.9722 - val_loss: 0.1884 - val_accuracy: 0.9259\n",
      "Epoch 17/20\n",
      "7/7 [==============================] - 0s 12ms/step - loss: 0.1120 - accuracy: 0.9537 - val_loss: 0.1842 - val_accuracy: 0.8889\n",
      "Epoch 18/20\n",
      "7/7 [==============================] - 0s 13ms/step - loss: 0.1073 - accuracy: 0.9815 - val_loss: 0.1669 - val_accuracy: 0.8889\n",
      "Epoch 19/20\n",
      "7/7 [==============================] - 0s 9ms/step - loss: 0.0944 - accuracy: 0.9815 - val_loss: 0.1659 - val_accuracy: 0.9259\n",
      "Epoch 20/20\n",
      "7/7 [==============================] - 0s 14ms/step - loss: 0.0849 - accuracy: 0.9815 - val_loss: 0.1648 - val_accuracy: 0.9259\n"
     ]
    }
   ],
   "source": [
    "# Make it verbose so we can see the process\n",
    "VERBOSE=1\n",
    "\n",
    "# Set hyperparameters for training\n",
    "\n",
    "# Set batch size\n",
    "BATCH_SIZE=16\n",
    "\n",
    "# Set the number of epochs\n",
    "EPOCHS=20\n",
    "\n",
    "# Set the validation split. 20% of the training dataset will be used for validation\n",
    "VALIDATION_SPLIT=0.2\n",
    "\n",
    "print(\"\\nTraining Progress: \\n------------------\")\n",
    "\n",
    "# Fitting the model. This will perform the enitre training cycle, including forward propagation, loss computation,\n",
    "# backward propagation and gradient descent.\n",
    "\n",
    "history=model.fit(X_train,\n",
    "                  Y_train,\n",
    "                  batch_size=BATCH_SIZE,\n",
    "                  epochs=EPOCHS,\n",
    "                  verbose=VERBOSE,\n",
    "                  validation_split=VALIDATION_SPLIT)"
   ]
  },
  {
   "cell_type": "code",
   "execution_count": 22,
   "id": "c0e3ea19",
   "metadata": {},
   "outputs": [
    {
     "name": "stdout",
     "output_type": "stream",
     "text": [
      "\n",
      "Accuracy During Training: \n",
      "-------------------------\n"
     ]
    },
    {
     "data": {
      "image/png": "[encoded data removed]",
      "text/plain": [
       "<Figure size 576x360 with 1 Axes>"
      ]
     },
     "metadata": {
      "needs_background": "light"
     },
     "output_type": "display_data"
    }
   ],
   "source": [
    "print(\"\\nAccuracy During Training: \\n-------------------------\")\n",
    "\n",
    "import matplotlib.pyplot as plt\n",
    "\n",
    "# Plot the accuracy of the model after each epoch\n",
    "\n",
    "pd.DataFrame(history.history)[\"accuracy\"].plot(figsize=(8,5))\n",
    "plt.title(\"Accuracy improvement after each epoch\")\n",
    "plt.show()"
   ]
  },
  {
   "cell_type": "markdown",
   "id": "beb11a6e",
   "metadata": {},
   "source": [
    "Evaluate the model against the test dataset and print the result"
   ]
  },
  {
   "cell_type": "code",
   "execution_count": 23,
   "id": "070cd54c",
   "metadata": {},
   "outputs": [
    {
     "name": "stdout",
     "output_type": "stream",
     "text": [
      "\n",
      "Evaluate against test dataset: \n",
      "--------------------------\n",
      "1/1 [==============================] - 0s 49ms/step - loss: 0.2564 - accuracy: 0.9333\n"
     ]
    },
    {
     "data": {
      "text/plain": [
       "[0.25640884041786194, 0.9333333373069763]"
      ]
     },
     "execution_count": 23,
     "metadata": {},
     "output_type": "execute_result"
    }
   ],
   "source": [
    "print(\"\\nEvaluate against test dataset: \\n--------------------------\")\n",
    "\n",
    "model.evaluate(X_test, Y_test)"
   ]
  },
  {
   "cell_type": "code",
   "execution_count": 24,
   "id": "e0ea0c5c",
   "metadata": {},
   "outputs": [
    {
     "name": "stderr",
     "output_type": "stream",
     "text": [
      "WARNING:absl:`Hidden-Layer-1_input` is not a valid tf.function parameter name. Sanitizing to `Hidden_Layer_1_input`.\n",
      "WARNING:absl:`Hidden-Layer-1_input` is not a valid tf.function parameter name. Sanitizing to `Hidden_Layer_1_input`.\n"
     ]
    },
    {
     "name": "stdout",
     "output_type": "stream",
     "text": [
      "INFO:tensorflow:Assets written to: iris_save\\assets\n"
     ]
    },
    {
     "name": "stderr",
     "output_type": "stream",
     "text": [
      "INFO:tensorflow:Assets written to: iris_save\\assets\n"
     ]
    },
    {
     "name": "stdout",
     "output_type": "stream",
     "text": [
      "Model: \"sequential_1\"\n",
      "_________________________________________________________________\n",
      " Layer (type)                Output Shape              Param #   \n",
      "=================================================================\n",
      " Hidden-Layer-1 (Dense)      (None, 128)               640       \n",
      "                                                                 \n",
      " Hidden-Layer-2 (Dense)      (None, 128)               16512     \n",
      "                                                                 \n",
      " Output-Layer (Dense)        (None, 3)                 387       \n",
      "                                                                 \n",
      "=================================================================\n",
      "Total params: 17539 (68.51 KB)\n",
      "Trainable params: 17539 (68.51 KB)\n",
      "Non-trainable params: 0 (0.00 Byte)\n",
      "_________________________________________________________________\n"
     ]
    }
   ],
   "source": [
    "# Saving a model\n",
    "model.save(\"iris_save\")\n",
    "\n",
    "#load the model\n",
    "loaded_model=keras.models.load_model(\"iris_save\")\n",
    "\n",
    "#print the model summary\n",
    "loaded_model.summary()"
   ]
  },
  {
   "cell_type": "markdown",
   "id": "8f1780ff",
   "metadata": {},
   "source": [
    "Predictions with Deep Learning Model"
   ]
  },
  {
   "cell_type": "code",
   "execution_count": 25,
   "id": "13ec2dbf",
   "metadata": {},
   "outputs": [
    {
     "name": "stdout",
     "output_type": "stream",
     "text": [
      "1/1 [==============================] - 0s 87ms/step\n",
      "Raw Prediction Output (Probabilities): [[1.0000000e+00 3.1238669e-09 1.2079355e-20]]\n",
      "Prediction is ['setosa']\n"
     ]
    }
   ],
   "source": [
    "# raw prediction data\n",
    "prediction_input=[[2.6,12.,2.4,4.4]]\n",
    "\n",
    "# scale the prediction data with the same scaling object\n",
    "scaled_input=scaler.transform(prediction_input)\n",
    "\n",
    "# get the raw prediction probabilities\n",
    "raw_prediction=loaded_model.predict(scaled_input)\n",
    "print(\"Raw Prediction Output (Probabilities):\",raw_prediction)\n",
    "\n",
    "#Find Prediction\n",
    "prediction=np.argmax(raw_prediction)\n",
    "print(\"Prediction is\",label_encoder.inverse_transform([prediction]))"
   ]
  },
  {
   "cell_type": "markdown",
   "id": "87b027a1",
   "metadata": {},
   "source": [
    "# Convolutional Neural Network"
   ]
  },
  {
   "cell_type": "markdown",
   "id": "2a7f0fb9",
   "metadata": {},
   "source": [
    "A Convolutional Neural Network (CNN) is a type of artificial neural network that is used in image recognition and processing that is specifically designed to process pixel data."
   ]
  },
  {
   "cell_type": "code",
   "execution_count": 26,
   "id": "30870022",
   "metadata": {},
   "outputs": [],
   "source": [
    "# https://www.bing.com/images/search?view=detailV2&ccid=%2bxPK2X22&id=7F6EE107A48092A457BFD5436353A81DE81EE3E3&thid=OIP.-xPK2X22QAU7ssU8ErD0pwHaD9&mediaurl=https%3a%2f%2fcdn-images-1.medium.com%2fmax%2f1600%2f1*uAeANQIOQPqWZnnuH-VEyw.jpeg&exph=856&expw=1600&q=cnn+neural+network&simid=607988187849189153&FORM=IRPRST&ck=9B20908F0103F6CA825F53F009F50FF7&selectedIndex=0&ajaxhist=0&ajaxserp=0"
   ]
  },
  {
   "cell_type": "markdown",
   "id": "91ff5d0a",
   "metadata": {},
   "source": [
    "# CNN Model on MNIST Dataset for written digit classification"
   ]
  },
  {
   "cell_type": "markdown",
   "id": "467363e9",
   "metadata": {},
   "source": [
    "MNIST Dataset is the handwritten numbers taken as images. All images are grey scale."
   ]
  },
  {
   "cell_type": "code",
   "execution_count": 27,
   "id": "f5be3737",
   "metadata": {},
   "outputs": [],
   "source": [
    "from keras.datasets import mnist\n",
    "#from keras.preprocessing.image import load_img, array_to_img\n",
    "from tensorflow.keras.utils import to_categorical\n",
    "from keras.models import Sequential\n",
    "from keras.layers import Dense\n",
    "\n",
    "import numpy as np\n",
    "import matplotlib.pyplot as plt"
   ]
  },
  {
   "cell_type": "markdown",
   "id": "0d971dce",
   "metadata": {},
   "source": [
    "Load the data"
   ]
  },
  {
   "cell_type": "code",
   "execution_count": 28,
   "id": "04dcedcc",
   "metadata": {},
   "outputs": [],
   "source": [
    "(X_train, y_train),(X_test, y_test)=mnist.load_data()"
   ]
  },
  {
   "cell_type": "code",
   "execution_count": 34,
   "id": "9366dce6",
   "metadata": {},
   "outputs": [
    {
     "name": "stdout",
     "output_type": "stream",
     "text": [
      "(60000, 28, 28)\n",
      "(60000,)\n",
      "(10000, 28, 28)\n",
      "(10000,)\n"
     ]
    }
   ],
   "source": [
    "print(X_train.shape)\n",
    "print(y_train.shape)\n",
    "print(X_test.shape)\n",
    "print(y_test.shape)"
   ]
  },
  {
   "cell_type": "markdown",
   "id": "9df550e2",
   "metadata": {},
   "source": [
    "Understand the image format"
   ]
  },
  {
   "cell_type": "code",
   "execution_count": 31,
   "id": "06734df6",
   "metadata": {},
   "outputs": [
    {
     "data": {
      "text/plain": [
       "(28, 28)"
      ]
     },
     "execution_count": 31,
     "metadata": {},
     "output_type": "execute_result"
    }
   ],
   "source": [
    "X_train[0].shape"
   ]
  },
  {
   "cell_type": "code",
   "execution_count": 32,
   "id": "65fd6e46",
   "metadata": {},
   "outputs": [
    {
     "data": {
      "text/plain": [
       "<matplotlib.image.AxesImage at 0x273b9cf8f10>"
      ]
     },
     "execution_count": 32,
     "metadata": {},
     "output_type": "execute_result"
    },
    {
     "data": {
      "image/png": "[encoded data removed]",
      "text/plain": [
       "<Figure size 432x288 with 1 Axes>"
      ]
     },
     "metadata": {
      "needs_background": "light"
     },
     "output_type": "display_data"
    }
   ],
   "source": [
    "plt.imshow(X_train[0],cmap=\"gray\")"
   ]
  },
  {
   "cell_type": "code",
   "execution_count": 33,
   "id": "66ca53d6",
   "metadata": {},
   "outputs": [
    {
     "data": {
      "text/plain": [
       "5"
      ]
     },
     "execution_count": 33,
     "metadata": {},
     "output_type": "execute_result"
    }
   ],
   "source": [
    "y_train[0]"
   ]
  },
  {
   "cell_type": "markdown",
   "id": "bb10fe8b",
   "metadata": {},
   "source": [
    "Preprocess the image data"
   ]
  },
  {
   "cell_type": "code",
   "execution_count": 35,
   "id": "8452ccd4",
   "metadata": {},
   "outputs": [],
   "source": [
    "image_height, image_width=28,28"
   ]
  },
  {
   "cell_type": "code",
   "execution_count": 36,
   "id": "e88d43e3",
   "metadata": {},
   "outputs": [
    {
     "name": "stdout",
     "output_type": "stream",
     "text": [
      "(60000, 784)\n",
      "(10000, 784)\n"
     ]
    }
   ],
   "source": [
    "X_train=X_train.reshape(60000, image_height*image_width)\n",
    "X_test=X_test.reshape(10000, image_height*image_width)\n",
    "\n",
    "print(X_train.shape)\n",
    "print(X_test.shape)"
   ]
  },
  {
   "cell_type": "code",
   "execution_count": 37,
   "id": "83c0dcf3",
   "metadata": {},
   "outputs": [
    {
     "name": "stdout",
     "output_type": "stream",
     "text": [
      "[  0   0   0   0   0   0   0   0   0   0   0   0   0   0   0   0   0   0\n",
      "   0   0   0   0   0   0   0   0   0   0   0   0   0   0   0   0   0   0\n",
      "   0   0   0   0   0   0   0   0   0   0   0   0   0   0   0   0   0   0\n",
      "   0   0   0   0   0   0   0   0   0   0   0   0   0   0   0   0   0   0\n",
      "   0   0   0   0   0   0   0   0   0   0   0   0   0   0   0   0   0   0\n",
      "   0   0   0   0   0   0   0   0   0   0   0   0   0   0   0   0   0   0\n",
      "   0   0   0   0   0   0   0   0   0   0   0   0   0   0   0   0   0   0\n",
      "   0   0   0   0   0   0   0   0   0   0   0   0   0   0   0   0   0   0\n",
      "   0   0   0   0   0   0   0   0   3  18  18  18 126 136 175  26 166 255\n",
      " 247 127   0   0   0   0   0   0   0   0   0   0   0   0  30  36  94 154\n",
      " 170 253 253 253 253 253 225 172 253 242 195  64   0   0   0   0   0   0\n",
      "   0   0   0   0   0  49 238 253 253 253 253 253 253 253 253 251  93  82\n",
      "  82  56  39   0   0   0   0   0   0   0   0   0   0   0   0  18 219 253\n",
      " 253 253 253 253 198 182 247 241   0   0   0   0   0   0   0   0   0   0\n",
      "   0   0   0   0   0   0   0   0  80 156 107 253 253 205  11   0  43 154\n",
      "   0   0   0   0   0   0   0   0   0   0   0   0   0   0   0   0   0   0\n",
      "   0  14   1 154 253  90   0   0   0   0   0   0   0   0   0   0   0   0\n",
      "   0   0   0   0   0   0   0   0   0   0   0   0   0 139 253 190   2   0\n",
      "   0   0   0   0   0   0   0   0   0   0   0   0   0   0   0   0   0   0\n",
      "   0   0   0   0   0  11 190 253  70   0   0   0   0   0   0   0   0   0\n",
      "   0   0   0   0   0   0   0   0   0   0   0   0   0   0   0   0  35 241\n",
      " 225 160 108   1   0   0   0   0   0   0   0   0   0   0   0   0   0   0\n",
      "   0   0   0   0   0   0   0   0   0  81 240 253 253 119  25   0   0   0\n",
      "   0   0   0   0   0   0   0   0   0   0   0   0   0   0   0   0   0   0\n",
      "   0   0  45 186 253 253 150  27   0   0   0   0   0   0   0   0   0   0\n",
      "   0   0   0   0   0   0   0   0   0   0   0   0   0  16  93 252 253 187\n",
      "   0   0   0   0   0   0   0   0   0   0   0   0   0   0   0   0   0   0\n",
      "   0   0   0   0   0   0   0 249 253 249  64   0   0   0   0   0   0   0\n",
      "   0   0   0   0   0   0   0   0   0   0   0   0   0   0  46 130 183 253\n",
      " 253 207   2   0   0   0   0   0   0   0   0   0   0   0   0   0   0   0\n",
      "   0   0   0   0  39 148 229 253 253 253 250 182   0   0   0   0   0   0\n",
      "   0   0   0   0   0   0   0   0   0   0   0   0  24 114 221 253 253 253\n",
      " 253 201  78   0   0   0   0   0   0   0   0   0   0   0   0   0   0   0\n",
      "   0   0  23  66 213 253 253 253 253 198  81   2   0   0   0   0   0   0\n",
      "   0   0   0   0   0   0   0   0   0   0  18 171 219 253 253 253 253 195\n",
      "  80   9   0   0   0   0   0   0   0   0   0   0   0   0   0   0   0   0\n",
      "  55 172 226 253 253 253 253 244 133  11   0   0   0   0   0   0   0   0\n",
      "   0   0   0   0   0   0   0   0   0   0 136 253 253 253 212 135 132  16\n",
      "   0   0   0   0   0   0   0   0   0   0   0   0   0   0   0   0   0   0\n",
      "   0   0   0   0   0   0   0   0   0   0   0   0   0   0   0   0   0   0\n",
      "   0   0   0   0   0   0   0   0   0   0   0   0   0   0   0   0   0   0\n",
      "   0   0   0   0   0   0   0   0   0   0   0   0   0   0   0   0   0   0\n",
      "   0   0   0   0   0   0   0   0   0   0   0   0   0   0   0   0   0   0\n",
      "   0   0   0   0   0   0   0   0   0   0]\n"
     ]
    }
   ],
   "source": [
    "print(X_train[0])"
   ]
  },
  {
   "cell_type": "code",
   "execution_count": 39,
   "id": "9ef0a4cc",
   "metadata": {},
   "outputs": [],
   "source": [
    "X_train=X_train.astype('float32')\n",
    "X_test=X_test.astype('float32')"
   ]
  },
  {
   "cell_type": "code",
   "execution_count": 40,
   "id": "1887fc02",
   "metadata": {},
   "outputs": [],
   "source": [
    "X_train/=255.0\n",
    "X_test/=255.0"
   ]
  },
  {
   "cell_type": "code",
   "execution_count": 41,
   "id": "81b14eea",
   "metadata": {},
   "outputs": [
    {
     "name": "stdout",
     "output_type": "stream",
     "text": [
      "[0.         0.         0.         0.         0.         0.\n",
      " 0.         0.         0.         0.         0.         0.\n",
      " 0.         0.         0.         0.         0.         0.\n",
      " 0.         0.         0.         0.         0.         0.\n",
      " 0.         0.         0.         0.         0.         0.\n",
      " 0.         0.         0.         0.         0.         0.\n",
      " 0.         0.         0.         0.         0.         0.\n",
      " 0.         0.         0.         0.         0.         0.\n",
      " 0.         0.         0.         0.         0.         0.\n",
      " 0.         0.         0.         0.         0.         0.\n",
      " 0.         0.         0.         0.         0.         0.\n",
      " 0.         0.         0.         0.         0.         0.\n",
      " 0.         0.         0.         0.         0.         0.\n",
      " 0.         0.         0.         0.         0.         0.\n",
      " 0.         0.         0.         0.         0.         0.\n",
      " 0.         0.         0.         0.         0.         0.\n",
      " 0.         0.         0.         0.         0.         0.\n",
      " 0.         0.         0.         0.         0.         0.\n",
      " 0.         0.         0.         0.         0.         0.\n",
      " 0.         0.         0.         0.         0.         0.\n",
      " 0.         0.         0.         0.         0.         0.\n",
      " 0.         0.         0.         0.         0.         0.\n",
      " 0.         0.         0.         0.         0.         0.\n",
      " 0.         0.         0.         0.         0.         0.\n",
      " 0.         0.         0.         0.         0.         0.\n",
      " 0.         0.         0.01176471 0.07058824 0.07058824 0.07058824\n",
      " 0.49411765 0.53333336 0.6862745  0.10196079 0.6509804  1.\n",
      " 0.96862745 0.49803922 0.         0.         0.         0.\n",
      " 0.         0.         0.         0.         0.         0.\n",
      " 0.         0.         0.11764706 0.14117648 0.36862746 0.6039216\n",
      " 0.6666667  0.99215686 0.99215686 0.99215686 0.99215686 0.99215686\n",
      " 0.88235295 0.6745098  0.99215686 0.9490196  0.7647059  0.2509804\n",
      " 0.         0.         0.         0.         0.         0.\n",
      " 0.         0.         0.         0.         0.         0.19215687\n",
      " 0.93333334 0.99215686 0.99215686 0.99215686 0.99215686 0.99215686\n",
      " 0.99215686 0.99215686 0.99215686 0.9843137  0.3647059  0.32156864\n",
      " 0.32156864 0.21960784 0.15294118 0.         0.         0.\n",
      " 0.         0.         0.         0.         0.         0.\n",
      " 0.         0.         0.         0.07058824 0.85882354 0.99215686\n",
      " 0.99215686 0.99215686 0.99215686 0.99215686 0.7764706  0.7137255\n",
      " 0.96862745 0.94509804 0.         0.         0.         0.\n",
      " 0.         0.         0.         0.         0.         0.\n",
      " 0.         0.         0.         0.         0.         0.\n",
      " 0.         0.         0.3137255  0.6117647  0.41960785 0.99215686\n",
      " 0.99215686 0.8039216  0.04313726 0.         0.16862746 0.6039216\n",
      " 0.         0.         0.         0.         0.         0.\n",
      " 0.         0.         0.         0.         0.         0.\n",
      " 0.         0.         0.         0.         0.         0.\n",
      " 0.         0.05490196 0.00392157 0.6039216  0.99215686 0.3529412\n",
      " 0.         0.         0.         0.         0.         0.\n",
      " 0.         0.         0.         0.         0.         0.\n",
      " 0.         0.         0.         0.         0.         0.\n",
      " 0.         0.         0.         0.         0.         0.\n",
      " 0.         0.54509807 0.99215686 0.74509805 0.00784314 0.\n",
      " 0.         0.         0.         0.         0.         0.\n",
      " 0.         0.         0.         0.         0.         0.\n",
      " 0.         0.         0.         0.         0.         0.\n",
      " 0.         0.         0.         0.         0.         0.04313726\n",
      " 0.74509805 0.99215686 0.27450982 0.         0.         0.\n",
      " 0.         0.         0.         0.         0.         0.\n",
      " 0.         0.         0.         0.         0.         0.\n",
      " 0.         0.         0.         0.         0.         0.\n",
      " 0.         0.         0.         0.         0.13725491 0.94509804\n",
      " 0.88235295 0.627451   0.42352942 0.00392157 0.         0.\n",
      " 0.         0.         0.         0.         0.         0.\n",
      " 0.         0.         0.         0.         0.         0.\n",
      " 0.         0.         0.         0.         0.         0.\n",
      " 0.         0.         0.         0.31764707 0.9411765  0.99215686\n",
      " 0.99215686 0.46666667 0.09803922 0.         0.         0.\n",
      " 0.         0.         0.         0.         0.         0.\n",
      " 0.         0.         0.         0.         0.         0.\n",
      " 0.         0.         0.         0.         0.         0.\n",
      " 0.         0.         0.1764706  0.7294118  0.99215686 0.99215686\n",
      " 0.5882353  0.10588235 0.         0.         0.         0.\n",
      " 0.         0.         0.         0.         0.         0.\n",
      " 0.         0.         0.         0.         0.         0.\n",
      " 0.         0.         0.         0.         0.         0.\n",
      " 0.         0.0627451  0.3647059  0.9882353  0.99215686 0.73333335\n",
      " 0.         0.         0.         0.         0.         0.\n",
      " 0.         0.         0.         0.         0.         0.\n",
      " 0.         0.         0.         0.         0.         0.\n",
      " 0.         0.         0.         0.         0.         0.\n",
      " 0.         0.9764706  0.99215686 0.9764706  0.2509804  0.\n",
      " 0.         0.         0.         0.         0.         0.\n",
      " 0.         0.         0.         0.         0.         0.\n",
      " 0.         0.         0.         0.         0.         0.\n",
      " 0.         0.         0.18039216 0.50980395 0.7176471  0.99215686\n",
      " 0.99215686 0.8117647  0.00784314 0.         0.         0.\n",
      " 0.         0.         0.         0.         0.         0.\n",
      " 0.         0.         0.         0.         0.         0.\n",
      " 0.         0.         0.         0.         0.15294118 0.5803922\n",
      " 0.8980392  0.99215686 0.99215686 0.99215686 0.98039216 0.7137255\n",
      " 0.         0.         0.         0.         0.         0.\n",
      " 0.         0.         0.         0.         0.         0.\n",
      " 0.         0.         0.         0.         0.         0.\n",
      " 0.09411765 0.44705883 0.8666667  0.99215686 0.99215686 0.99215686\n",
      " 0.99215686 0.7882353  0.30588236 0.         0.         0.\n",
      " 0.         0.         0.         0.         0.         0.\n",
      " 0.         0.         0.         0.         0.         0.\n",
      " 0.         0.         0.09019608 0.25882354 0.8352941  0.99215686\n",
      " 0.99215686 0.99215686 0.99215686 0.7764706  0.31764707 0.00784314\n",
      " 0.         0.         0.         0.         0.         0.\n",
      " 0.         0.         0.         0.         0.         0.\n",
      " 0.         0.         0.         0.         0.07058824 0.67058825\n",
      " 0.85882354 0.99215686 0.99215686 0.99215686 0.99215686 0.7647059\n",
      " 0.3137255  0.03529412 0.         0.         0.         0.\n",
      " 0.         0.         0.         0.         0.         0.\n",
      " 0.         0.         0.         0.         0.         0.\n",
      " 0.21568628 0.6745098  0.8862745  0.99215686 0.99215686 0.99215686\n",
      " 0.99215686 0.95686275 0.52156866 0.04313726 0.         0.\n",
      " 0.         0.         0.         0.         0.         0.\n",
      " 0.         0.         0.         0.         0.         0.\n",
      " 0.         0.         0.         0.         0.53333336 0.99215686\n",
      " 0.99215686 0.99215686 0.83137256 0.5294118  0.5176471  0.0627451\n",
      " 0.         0.         0.         0.         0.         0.\n",
      " 0.         0.         0.         0.         0.         0.\n",
      " 0.         0.         0.         0.         0.         0.\n",
      " 0.         0.         0.         0.         0.         0.\n",
      " 0.         0.         0.         0.         0.         0.\n",
      " 0.         0.         0.         0.         0.         0.\n",
      " 0.         0.         0.         0.         0.         0.\n",
      " 0.         0.         0.         0.         0.         0.\n",
      " 0.         0.         0.         0.         0.         0.\n",
      " 0.         0.         0.         0.         0.         0.\n",
      " 0.         0.         0.         0.         0.         0.\n",
      " 0.         0.         0.         0.         0.         0.\n",
      " 0.         0.         0.         0.         0.         0.\n",
      " 0.         0.         0.         0.         0.         0.\n",
      " 0.         0.         0.         0.         0.         0.\n",
      " 0.         0.         0.         0.         0.         0.\n",
      " 0.         0.         0.         0.        ]\n"
     ]
    }
   ],
   "source": [
    "print(X_train[0])"
   ]
  },
  {
   "cell_type": "code",
   "execution_count": 42,
   "id": "30bc16e1",
   "metadata": {},
   "outputs": [
    {
     "name": "stdout",
     "output_type": "stream",
     "text": [
      "(60000,)\n",
      "(10000,)\n"
     ]
    }
   ],
   "source": [
    "print(y_train.shape)\n",
    "print(y_test.shape)"
   ]
  },
  {
   "cell_type": "markdown",
   "id": "69782f5c",
   "metadata": {},
   "source": [
    "Converting the target value into 10 bins. So, we will see that the output from a model will then go into one of these bins."
   ]
  },
  {
   "cell_type": "code",
   "execution_count": 43,
   "id": "5cf3ce39",
   "metadata": {},
   "outputs": [
    {
     "name": "stdout",
     "output_type": "stream",
     "text": [
      "(60000, 10)\n",
      "(10000, 10)\n"
     ]
    }
   ],
   "source": [
    "y_train=to_categorical(y_train,10)\n",
    "y_test=to_categorical(y_test,10)\n",
    "\n",
    "print(y_train.shape)\n",
    "print(y_test.shape)"
   ]
  },
  {
   "cell_type": "code",
   "execution_count": 44,
   "id": "4ade7b9c",
   "metadata": {},
   "outputs": [
    {
     "data": {
      "text/plain": [
       "array([0., 0., 0., 0., 0., 1., 0., 0., 0., 0.], dtype=float32)"
      ]
     },
     "execution_count": 44,
     "metadata": {},
     "output_type": "execute_result"
    }
   ],
   "source": [
    "y_train[0]"
   ]
  },
  {
   "cell_type": "markdown",
   "id": "4281e468",
   "metadata": {},
   "source": [
    "Building the model"
   ]
  },
  {
   "cell_type": "code",
   "execution_count": 45,
   "id": "384025db",
   "metadata": {},
   "outputs": [],
   "source": [
    "model=Sequential()\n",
    "\n",
    "model.add(Dense(512, activation='relu',input_shape=(784,)))\n",
    "model.add(Dense(512,activation='relu'))\n",
    "model.add(Dense(10,activation=\"softmax\"))"
   ]
  },
  {
   "cell_type": "markdown",
   "id": "5679eb9b",
   "metadata": {},
   "source": [
    "Compile the model"
   ]
  },
  {
   "cell_type": "code",
   "execution_count": 46,
   "id": "1792ecc7",
   "metadata": {},
   "outputs": [
    {
     "name": "stdout",
     "output_type": "stream",
     "text": [
      "Model: \"sequential_2\"\n",
      "_________________________________________________________________\n",
      " Layer (type)                Output Shape              Param #   \n",
      "=================================================================\n",
      " dense (Dense)               (None, 512)               401920    \n",
      "                                                                 \n",
      " dense_1 (Dense)             (None, 512)               262656    \n",
      "                                                                 \n",
      " dense_2 (Dense)             (None, 10)                5130      \n",
      "                                                                 \n",
      "=================================================================\n",
      "Total params: 669706 (2.55 MB)\n",
      "Trainable params: 669706 (2.55 MB)\n",
      "Non-trainable params: 0 (0.00 Byte)\n",
      "_________________________________________________________________\n"
     ]
    }
   ],
   "source": [
    "model.compile(optimizer=\"adam\",loss='categorical_crossentropy',metrics=[\"accuracy\"])\n",
    "model.summary()"
   ]
  },
  {
   "cell_type": "code",
   "execution_count": 47,
   "id": "634e1690",
   "metadata": {},
   "outputs": [
    {
     "name": "stdout",
     "output_type": "stream",
     "text": [
      "Epoch 1/20\n",
      "1875/1875 [==============================] - 34s 18ms/step - loss: 0.1836 - accuracy: 0.9447 - val_loss: 0.0965 - val_accuracy: 0.9705\n",
      "Epoch 2/20\n",
      "1875/1875 [==============================] - 26s 14ms/step - loss: 0.0806 - accuracy: 0.9748 - val_loss: 0.0965 - val_accuracy: 0.9708\n",
      "Epoch 3/20\n",
      "1875/1875 [==============================] - 24s 13ms/step - loss: 0.0559 - accuracy: 0.9824 - val_loss: 0.0898 - val_accuracy: 0.9751\n",
      "Epoch 4/20\n",
      "1875/1875 [==============================] - 25s 13ms/step - loss: 0.0449 - accuracy: 0.9856 - val_loss: 0.0843 - val_accuracy: 0.9791\n",
      "Epoch 5/20\n",
      "1875/1875 [==============================] - 25s 13ms/step - loss: 0.0330 - accuracy: 0.9893 - val_loss: 0.0808 - val_accuracy: 0.9794\n",
      "Epoch 6/20\n",
      "1875/1875 [==============================] - 26s 14ms/step - loss: 0.0295 - accuracy: 0.9906 - val_loss: 0.0802 - val_accuracy: 0.9810\n",
      "Epoch 7/20\n",
      "1875/1875 [==============================] - 24s 13ms/step - loss: 0.0274 - accuracy: 0.9915 - val_loss: 0.0938 - val_accuracy: 0.9796\n",
      "Epoch 8/20\n",
      "1875/1875 [==============================] - 25s 13ms/step - loss: 0.0208 - accuracy: 0.9934 - val_loss: 0.1084 - val_accuracy: 0.9772\n",
      "Epoch 9/20\n",
      "1875/1875 [==============================] - 29s 15ms/step - loss: 0.0217 - accuracy: 0.9936 - val_loss: 0.0960 - val_accuracy: 0.9793\n",
      "Epoch 10/20\n",
      "1875/1875 [==============================] - 28s 15ms/step - loss: 0.0181 - accuracy: 0.9947 - val_loss: 0.0876 - val_accuracy: 0.9814\n",
      "Epoch 11/20\n",
      "1875/1875 [==============================] - 29s 15ms/step - loss: 0.0190 - accuracy: 0.9947 - val_loss: 0.0873 - val_accuracy: 0.9809\n",
      "Epoch 12/20\n",
      "1875/1875 [==============================] - 30s 16ms/step - loss: 0.0139 - accuracy: 0.9956 - val_loss: 0.1054 - val_accuracy: 0.9805\n",
      "Epoch 13/20\n",
      "1875/1875 [==============================] - 31s 16ms/step - loss: 0.0175 - accuracy: 0.9950 - val_loss: 0.0977 - val_accuracy: 0.9815\n",
      "Epoch 14/20\n",
      "1875/1875 [==============================] - 28s 15ms/step - loss: 0.0153 - accuracy: 0.9957 - val_loss: 0.1132 - val_accuracy: 0.9806\n",
      "Epoch 15/20\n",
      "1875/1875 [==============================] - 38s 20ms/step - loss: 0.0143 - accuracy: 0.9962 - val_loss: 0.1050 - val_accuracy: 0.9833\n",
      "Epoch 16/20\n",
      "1875/1875 [==============================] - 28s 15ms/step - loss: 0.0156 - accuracy: 0.9957 - val_loss: 0.1209 - val_accuracy: 0.9812\n",
      "Epoch 17/20\n",
      "1875/1875 [==============================] - 25s 14ms/step - loss: 0.0147 - accuracy: 0.9959 - val_loss: 0.1324 - val_accuracy: 0.9785\n",
      "Epoch 18/20\n",
      "1875/1875 [==============================] - 24s 13ms/step - loss: 0.0100 - accuracy: 0.9974 - val_loss: 0.1599 - val_accuracy: 0.9772\n",
      "Epoch 19/20\n",
      "1875/1875 [==============================] - 27s 14ms/step - loss: 0.0131 - accuracy: 0.9964 - val_loss: 0.1385 - val_accuracy: 0.9813\n",
      "Epoch 20/20\n",
      "1875/1875 [==============================] - 26s 14ms/step - loss: 0.0124 - accuracy: 0.9971 - val_loss: 0.1542 - val_accuracy: 0.9801\n"
     ]
    }
   ],
   "source": [
    "history= model.fit(X_train, y_train, epochs=20, validation_data=(X_test, y_test))"
   ]
  },
  {
   "cell_type": "code",
   "execution_count": 48,
   "id": "2a13aa06",
   "metadata": {},
   "outputs": [
    {
     "data": {
      "text/plain": [
       "[<matplotlib.lines.Line2D at 0x273bc009e20>]"
      ]
     },
     "execution_count": 48,
     "metadata": {},
     "output_type": "execute_result"
    },
    {
     "data": {
      "image/png": "[encoded data removed]",
      "text/plain": [
       "<Figure size 432x288 with 1 Axes>"
      ]
     },
     "metadata": {
      "needs_background": "light"
     },
     "output_type": "display_data"
    }
   ],
   "source": [
    "plt.plot(history.history['accuracy'])"
   ]
  },
  {
   "cell_type": "markdown",
   "id": "19cdcd91",
   "metadata": {},
   "source": [
    "Evaluating the model"
   ]
  },
  {
   "cell_type": "code",
   "execution_count": 49,
   "id": "02a750e3",
   "metadata": {},
   "outputs": [
    {
     "name": "stdout",
     "output_type": "stream",
     "text": [
      "313/313 [==============================] - 1s 4ms/step - loss: 0.1542 - accuracy: 0.9801\n"
     ]
    }
   ],
   "source": [
    "score= model.evaluate(X_test, y_test)"
   ]
  },
  {
   "cell_type": "markdown",
   "id": "ebfce5c2",
   "metadata": {},
   "source": [
    "In neural networks we only have fully connected layer, otherwise known as dense layer. With Convolutional neural networks, we have more operations such as the convolution operation, max pooling, flattening and also a fully connected layer."
   ]
  },
  {
   "cell_type": "code",
   "execution_count": 50,
   "id": "6f61067f",
   "metadata": {},
   "outputs": [],
   "source": [
    "from keras.layers import Conv2D, MaxPooling2D,Flatten,Dense\n",
    "from keras.models import Sequential\n",
    "from keras.datasets import mnist\n",
    "from tensorflow.keras.utils import to_categorical"
   ]
  },
  {
   "cell_type": "code",
   "execution_count": 51,
   "id": "632bb7bd",
   "metadata": {},
   "outputs": [],
   "source": [
    "(X_train, y_train),(X_test, y_test)=mnist.load_data()"
   ]
  },
  {
   "cell_type": "code",
   "execution_count": 52,
   "id": "698260ed",
   "metadata": {},
   "outputs": [
    {
     "name": "stdout",
     "output_type": "stream",
     "text": [
      "(60000, 28, 28)\n",
      "(60000,)\n",
      "(10000, 28, 28)\n",
      "(10000,)\n"
     ]
    }
   ],
   "source": [
    "print(X_train.shape)\n",
    "print(y_train.shape)\n",
    "print(X_test.shape)\n",
    "print(y_test.shape)"
   ]
  },
  {
   "cell_type": "code",
   "execution_count": 53,
   "id": "d0124446",
   "metadata": {},
   "outputs": [],
   "source": [
    "X_train=X_train.reshape(60000,28,28,1)\n",
    "X_test=X_test.reshape(10000,28,28,1)"
   ]
  },
  {
   "cell_type": "code",
   "execution_count": 54,
   "id": "6dd4501d",
   "metadata": {},
   "outputs": [],
   "source": [
    "X_train=X_train.astype('float32')\n",
    "X_test=X_test.astype('float32')"
   ]
  },
  {
   "cell_type": "code",
   "execution_count": 55,
   "id": "f0bb44e2",
   "metadata": {},
   "outputs": [],
   "source": [
    "X_train/=255.0\n",
    "X_test/=255.0"
   ]
  },
  {
   "cell_type": "code",
   "execution_count": 56,
   "id": "c3488568",
   "metadata": {},
   "outputs": [],
   "source": [
    "y_train=to_categorical(y_train,10)\n",
    "y_test=to_categorical(y_test,10)"
   ]
  },
  {
   "cell_type": "code",
   "execution_count": 57,
   "id": "8d1d624c",
   "metadata": {},
   "outputs": [
    {
     "name": "stdout",
     "output_type": "stream",
     "text": [
      "(60000, 28, 28, 1)\n",
      "(60000, 10)\n",
      "(10000, 28, 28, 1)\n",
      "(10000, 10)\n"
     ]
    }
   ],
   "source": [
    "print(X_train.shape)\n",
    "print(y_train.shape)\n",
    "print(X_test.shape)\n",
    "print(y_test.shape)"
   ]
  },
  {
   "cell_type": "markdown",
   "id": "2b82777b",
   "metadata": {},
   "source": [
    "CNN Model Development"
   ]
  },
  {
   "cell_type": "code",
   "execution_count": 58,
   "id": "7206c614",
   "metadata": {},
   "outputs": [
    {
     "name": "stdout",
     "output_type": "stream",
     "text": [
      "Model: \"sequential_3\"\n",
      "_________________________________________________________________\n",
      " Layer (type)                Output Shape              Param #   \n",
      "=================================================================\n",
      " conv2d (Conv2D)             (None, 28, 28, 32)        320       \n",
      "                                                                 \n",
      " max_pooling2d (MaxPooling2  (None, 14, 14, 32)        0         \n",
      " D)                                                              \n",
      "                                                                 \n",
      " conv2d_1 (Conv2D)           (None, 14, 14, 32)        9248      \n",
      "                                                                 \n",
      " max_pooling2d_1 (MaxPoolin  (None, 7, 7, 32)          0         \n",
      " g2D)                                                            \n",
      "                                                                 \n",
      " flatten (Flatten)           (None, 1568)              0         \n",
      "                                                                 \n",
      " dense_3 (Dense)             (None, 64)                100416    \n",
      "                                                                 \n",
      " dense_4 (Dense)             (None, 10)                650       \n",
      "                                                                 \n",
      "=================================================================\n",
      "Total params: 110634 (432.16 KB)\n",
      "Trainable params: 110634 (432.16 KB)\n",
      "Non-trainable params: 0 (0.00 Byte)\n",
      "_________________________________________________________________\n",
      "None\n"
     ]
    }
   ],
   "source": [
    "cnn=Sequential()\n",
    "cnn.add(Conv2D(32, kernel_size=(3,3),input_shape=(28,28,1),padding='same',activation='relu'))\n",
    "cnn.add(MaxPooling2D())\n",
    "cnn.add(Conv2D(32,kernel_size=(3,3),padding='same',activation='relu'))\n",
    "cnn.add(MaxPooling2D())\n",
    "cnn.add(Flatten())\n",
    "cnn.add(Dense(64, activation='relu'))\n",
    "cnn.add(Dense(10,activation='softmax'))\n",
    "cnn.compile(optimizer='adam',loss='categorical_crossentropy',metrics=['accuracy'])\n",
    "print(cnn.summary())"
   ]
  },
  {
   "cell_type": "code",
   "execution_count": 59,
   "id": "a88b8640",
   "metadata": {},
   "outputs": [
    {
     "name": "stdout",
     "output_type": "stream",
     "text": [
      "Epoch 1/12\n",
      "1875/1875 [==============================] - 59s 30ms/step - loss: 0.1509 - accuracy: 0.9532 - val_loss: 0.0482 - val_accuracy: 0.9854\n",
      "Epoch 2/12\n",
      "1875/1875 [==============================] - 56s 30ms/step - loss: 0.0493 - accuracy: 0.9846 - val_loss: 0.0395 - val_accuracy: 0.9878\n",
      "Epoch 3/12\n",
      "1875/1875 [==============================] - 58s 31ms/step - loss: 0.0348 - accuracy: 0.9888 - val_loss: 0.0226 - val_accuracy: 0.9930\n",
      "Epoch 4/12\n",
      "1875/1875 [==============================] - 62s 33ms/step - loss: 0.0256 - accuracy: 0.9923 - val_loss: 0.0170 - val_accuracy: 0.9945\n",
      "Epoch 5/12\n",
      "1875/1875 [==============================] - 63s 33ms/step - loss: 0.0190 - accuracy: 0.9940 - val_loss: 0.0141 - val_accuracy: 0.9955\n",
      "Epoch 6/12\n",
      "1875/1875 [==============================] - 57s 30ms/step - loss: 0.0156 - accuracy: 0.9947 - val_loss: 0.0084 - val_accuracy: 0.9971\n",
      "Epoch 7/12\n",
      "1875/1875 [==============================] - 59s 32ms/step - loss: 0.0124 - accuracy: 0.9959 - val_loss: 0.0100 - val_accuracy: 0.9967\n",
      "Epoch 8/12\n",
      "1875/1875 [==============================] - 56s 30ms/step - loss: 0.0111 - accuracy: 0.9962 - val_loss: 0.0077 - val_accuracy: 0.9973\n",
      "Epoch 9/12\n",
      "1875/1875 [==============================] - 56s 30ms/step - loss: 0.0092 - accuracy: 0.9969 - val_loss: 0.0069 - val_accuracy: 0.9975\n",
      "Epoch 10/12\n",
      "1875/1875 [==============================] - 59s 32ms/step - loss: 0.0074 - accuracy: 0.9976 - val_loss: 0.0051 - val_accuracy: 0.9982\n",
      "Epoch 11/12\n",
      "1875/1875 [==============================] - 61s 33ms/step - loss: 0.0076 - accuracy: 0.9974 - val_loss: 0.0056 - val_accuracy: 0.9981\n",
      "Epoch 12/12\n",
      "1875/1875 [==============================] - 60s 32ms/step - loss: 0.0051 - accuracy: 0.9981 - val_loss: 0.0051 - val_accuracy: 0.9982\n"
     ]
    }
   ],
   "source": [
    "history_cnn=cnn.fit(X_train, y_train, epochs=12, verbose=1, validation_data=(X_train, y_train))"
   ]
  },
  {
   "cell_type": "code",
   "execution_count": 60,
   "id": "804bbc8c",
   "metadata": {},
   "outputs": [
    {
     "data": {
      "text/plain": [
       "[<matplotlib.lines.Line2D at 0x273c8464b20>]"
      ]
     },
     "execution_count": 60,
     "metadata": {},
     "output_type": "execute_result"
    },
    {
     "data": {
      "image/png": "[encoded data removed]",
      "text/plain": [
       "<Figure size 432x288 with 1 Axes>"
      ]
     },
     "metadata": {
      "needs_background": "light"
     },
     "output_type": "display_data"
    }
   ],
   "source": [
    "plt.plot(history_cnn.history['accuracy'])"
   ]
  },
  {
   "cell_type": "code",
   "execution_count": 61,
   "id": "c5944f87",
   "metadata": {},
   "outputs": [
    {
     "data": {
      "text/plain": [
       "[<matplotlib.lines.Line2D at 0x273c84c1c40>]"
      ]
     },
     "execution_count": 61,
     "metadata": {},
     "output_type": "execute_result"
    },
    {
     "data": {
      "image/png": "[encoded data removed]",
      "text/plain": [
       "<Figure size 432x288 with 1 Axes>"
      ]
     },
     "metadata": {
      "needs_background": "light"
     },
     "output_type": "display_data"
    }
   ],
   "source": [
    "plt.plot(history_cnn.history['val_accuracy'])"
   ]
  },
  {
   "cell_type": "code",
   "execution_count": null,
   "id": "9de688f8",
   "metadata": {},
   "outputs": [],
   "source": []
  }
 ],
 "metadata": {
  "kernelspec": {
   "display_name": "Python 3 (ipykernel)",
   "language": "python",
   "name": "python3"
  },
  "language_info": {
   "codemirror_mode": {
    "name": "ipython",
    "version": 3
   },
   "file_extension": ".py",
   "mimetype": "text/x-python",
   "name": "python",
   "nbconvert_exporter": "python",
   "pygments_lexer": "ipython3",
   "version": "3.9.12"
  }
 },
 "nbformat": 4,
 "nbformat_minor": 5
}
